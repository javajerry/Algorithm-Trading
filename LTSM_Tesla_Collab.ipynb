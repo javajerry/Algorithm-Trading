{
  "nbformat": 4,
  "nbformat_minor": 0,
  "metadata": {
    "colab": {
      "name": "LTSM_Tesla_Collab.ipynb",
      "provenance": [],
      "authorship_tag": "ABX9TyOGdjn6o1nv5/7oqzj7Zx44",
      "include_colab_link": true
    },
    "kernelspec": {
      "name": "python3",
      "display_name": "Python 3"
    }
  },
  "cells": [
    {
      "cell_type": "markdown",
      "metadata": {
        "id": "view-in-github",
        "colab_type": "text"
      },
      "source": [
        "<a href=\"https://colab.research.google.com/github/javajerry/Algorithm-Trading/blob/main/LTSM_Tesla_Collab.ipynb\" target=\"_parent\"><img src=\"https://colab.research.google.com/assets/colab-badge.svg\" alt=\"Open In Colab\"/></a>"
      ]
    },
    {
      "cell_type": "code",
      "metadata": {
        "id": "WiaHt-w2qbwV"
      },
      "source": [
        "# Description: This program uses an artifical recurrent neural network called Long Short Term Memory(LSTM) \n",
        "#              to predict the closing stock proce of a corporation(applie Inc.) using the past 60 days stock price.\n"
      ],
      "execution_count": 1,
      "outputs": []
    },
    {
      "cell_type": "code",
      "metadata": {
        "id": "xnIEaE3xrYKk"
      },
      "source": [
        "#import the library\n",
        "import math\n",
        "import pandas_datareader as web\n",
        "import numpy as np\n",
        "import pandas as pd\n",
        "from sklearn.preprocessing import MinMaxScaler\n",
        "from keras.models import Sequential\n",
        "from keras.layers import Dense, LSTM\n",
        "import matplotlib.pyplot as plt\n",
        "plt.style.use('fivethirtyeight')"
      ],
      "execution_count": 2,
      "outputs": []
    },
    {
      "cell_type": "code",
      "metadata": {
        "colab": {
          "base_uri": "https://localhost:8080/",
          "height": 450
        },
        "id": "L99qu_rlsPOa",
        "outputId": "212b9f1d-becb-446c-d540-4cdbae563a39"
      },
      "source": [
        "#Get the stock quoote\n",
        "df = web.DataReader('TSLA', data_source='yahoo', start='2013-01-01', end='2020-12-24')\n",
        "# show the data\n",
        "df"
      ],
      "execution_count": 3,
      "outputs": [
        {
          "output_type": "execute_result",
          "data": {
            "text/html": [
              "<div>\n",
              "<style scoped>\n",
              "    .dataframe tbody tr th:only-of-type {\n",
              "        vertical-align: middle;\n",
              "    }\n",
              "\n",
              "    .dataframe tbody tr th {\n",
              "        vertical-align: top;\n",
              "    }\n",
              "\n",
              "    .dataframe thead th {\n",
              "        text-align: right;\n",
              "    }\n",
              "</style>\n",
              "<table border=\"1\" class=\"dataframe\">\n",
              "  <thead>\n",
              "    <tr style=\"text-align: right;\">\n",
              "      <th></th>\n",
              "      <th>High</th>\n",
              "      <th>Low</th>\n",
              "      <th>Open</th>\n",
              "      <th>Close</th>\n",
              "      <th>Volume</th>\n",
              "      <th>Adj Close</th>\n",
              "    </tr>\n",
              "    <tr>\n",
              "      <th>Date</th>\n",
              "      <th></th>\n",
              "      <th></th>\n",
              "      <th></th>\n",
              "      <th></th>\n",
              "      <th></th>\n",
              "      <th></th>\n",
              "    </tr>\n",
              "  </thead>\n",
              "  <tbody>\n",
              "    <tr>\n",
              "      <th>2013-01-02</th>\n",
              "      <td>7.090000</td>\n",
              "      <td>6.942000</td>\n",
              "      <td>7.000000</td>\n",
              "      <td>7.072000</td>\n",
              "      <td>5974000.0</td>\n",
              "      <td>7.072000</td>\n",
              "    </tr>\n",
              "    <tr>\n",
              "      <th>2013-01-03</th>\n",
              "      <td>7.090000</td>\n",
              "      <td>6.950000</td>\n",
              "      <td>7.036000</td>\n",
              "      <td>6.954000</td>\n",
              "      <td>3710000.0</td>\n",
              "      <td>6.954000</td>\n",
              "    </tr>\n",
              "    <tr>\n",
              "      <th>2013-01-04</th>\n",
              "      <td>6.960000</td>\n",
              "      <td>6.784000</td>\n",
              "      <td>6.960000</td>\n",
              "      <td>6.880000</td>\n",
              "      <td>3370000.0</td>\n",
              "      <td>6.880000</td>\n",
              "    </tr>\n",
              "    <tr>\n",
              "      <th>2013-01-07</th>\n",
              "      <td>6.960000</td>\n",
              "      <td>6.780000</td>\n",
              "      <td>6.960000</td>\n",
              "      <td>6.868000</td>\n",
              "      <td>2210000.0</td>\n",
              "      <td>6.868000</td>\n",
              "    </tr>\n",
              "    <tr>\n",
              "      <th>2013-01-08</th>\n",
              "      <td>6.900000</td>\n",
              "      <td>6.622000</td>\n",
              "      <td>6.900000</td>\n",
              "      <td>6.736000</td>\n",
              "      <td>6420000.0</td>\n",
              "      <td>6.736000</td>\n",
              "    </tr>\n",
              "    <tr>\n",
              "      <th>...</th>\n",
              "      <td>...</td>\n",
              "      <td>...</td>\n",
              "      <td>...</td>\n",
              "      <td>...</td>\n",
              "      <td>...</td>\n",
              "      <td>...</td>\n",
              "    </tr>\n",
              "    <tr>\n",
              "      <th>2020-12-18</th>\n",
              "      <td>695.000000</td>\n",
              "      <td>628.539978</td>\n",
              "      <td>668.900024</td>\n",
              "      <td>695.000000</td>\n",
              "      <td>222126200.0</td>\n",
              "      <td>695.000000</td>\n",
              "    </tr>\n",
              "    <tr>\n",
              "      <th>2020-12-21</th>\n",
              "      <td>668.500000</td>\n",
              "      <td>646.070007</td>\n",
              "      <td>666.239990</td>\n",
              "      <td>649.859985</td>\n",
              "      <td>58045300.0</td>\n",
              "      <td>649.859985</td>\n",
              "    </tr>\n",
              "    <tr>\n",
              "      <th>2020-12-22</th>\n",
              "      <td>649.880005</td>\n",
              "      <td>614.229980</td>\n",
              "      <td>648.000000</td>\n",
              "      <td>640.340027</td>\n",
              "      <td>51716000.0</td>\n",
              "      <td>640.340027</td>\n",
              "    </tr>\n",
              "    <tr>\n",
              "      <th>2020-12-23</th>\n",
              "      <td>651.500000</td>\n",
              "      <td>622.570007</td>\n",
              "      <td>632.200012</td>\n",
              "      <td>645.979980</td>\n",
              "      <td>33173000.0</td>\n",
              "      <td>645.979980</td>\n",
              "    </tr>\n",
              "    <tr>\n",
              "      <th>2020-12-24</th>\n",
              "      <td>666.090027</td>\n",
              "      <td>641.000000</td>\n",
              "      <td>642.989990</td>\n",
              "      <td>661.770020</td>\n",
              "      <td>22865600.0</td>\n",
              "      <td>661.770020</td>\n",
              "    </tr>\n",
              "  </tbody>\n",
              "</table>\n",
              "<p>2011 rows × 6 columns</p>\n",
              "</div>"
            ],
            "text/plain": [
              "                  High         Low  ...       Volume   Adj Close\n",
              "Date                                ...                         \n",
              "2013-01-02    7.090000    6.942000  ...    5974000.0    7.072000\n",
              "2013-01-03    7.090000    6.950000  ...    3710000.0    6.954000\n",
              "2013-01-04    6.960000    6.784000  ...    3370000.0    6.880000\n",
              "2013-01-07    6.960000    6.780000  ...    2210000.0    6.868000\n",
              "2013-01-08    6.900000    6.622000  ...    6420000.0    6.736000\n",
              "...                ...         ...  ...          ...         ...\n",
              "2020-12-18  695.000000  628.539978  ...  222126200.0  695.000000\n",
              "2020-12-21  668.500000  646.070007  ...   58045300.0  649.859985\n",
              "2020-12-22  649.880005  614.229980  ...   51716000.0  640.340027\n",
              "2020-12-23  651.500000  622.570007  ...   33173000.0  645.979980\n",
              "2020-12-24  666.090027  641.000000  ...   22865600.0  661.770020\n",
              "\n",
              "[2011 rows x 6 columns]"
            ]
          },
          "metadata": {
            "tags": []
          },
          "execution_count": 3
        }
      ]
    },
    {
      "cell_type": "code",
      "metadata": {
        "colab": {
          "base_uri": "https://localhost:8080/"
        },
        "id": "sEP-U8mftTqd",
        "outputId": "215ba10c-8b03-461e-ff1f-ba4cb171b47a"
      },
      "source": [
        "# Get the number of rows and columns in the data set\n",
        "df.shape"
      ],
      "execution_count": 4,
      "outputs": [
        {
          "output_type": "execute_result",
          "data": {
            "text/plain": [
              "(2011, 6)"
            ]
          },
          "metadata": {
            "tags": []
          },
          "execution_count": 4
        }
      ]
    },
    {
      "cell_type": "code",
      "metadata": {
        "colab": {
          "base_uri": "https://localhost:8080/",
          "height": 434
        },
        "id": "-S1ncSNot7P-",
        "outputId": "34d16c55-f831-49b6-fc45-2c7a531e19c7"
      },
      "source": [
        "# Visualize the closing price history\n",
        "plt.figure(figsize=(16,8))\n",
        "plt.title('Close Price History')\n",
        "plt.plot(df['Close'])\n",
        "plt.xlabel('Date', fontsize=1)\n",
        "plt.ylabel('Close Price USD ($)', fontsize=18)\n",
        "plt.show()\n"
      ],
      "execution_count": 5,
      "outputs": [
        {
          "output_type": "display_data",
          "data": {
            "image/png": "[encoded data removed]",
            "text/plain": [
              "<Figure size 1152x576 with 1 Axes>"
            ]
          },
          "metadata": {
            "tags": []
          }
        }
      ]
    },
    {
      "cell_type": "code",
      "metadata": {
        "colab": {
          "base_uri": "https://localhost:8080/"
        },
        "id": "9RvyV5W5t7Rd",
        "outputId": "b336e05a-d91a-40b5-a31b-fb0931c50345"
      },
      "source": [
        "#Create a new daataframe with only the 'Close' column\n",
        "data = df.filter(['Close'])\n",
        "#Convert the dataframe to a numpy array\n",
        "dataset = data.values\n",
        "#Get the number of rows to train the model on\n",
        "training_data_len = math.ceil(len(dataset) * .8)\n",
        "\n",
        "training_data_len"
      ],
      "execution_count": 6,
      "outputs": [
        {
          "output_type": "execute_result",
          "data": {
            "text/plain": [
              "1609"
            ]
          },
          "metadata": {
            "tags": []
          },
          "execution_count": 6
        }
      ]
    },
    {
      "cell_type": "code",
      "metadata": {
        "colab": {
          "base_uri": "https://localhost:8080/"
        },
        "id": "eQyIJCPfxNXs",
        "outputId": "ab574a26-4c5e-4986-9b32-3d591482c760"
      },
      "source": [
        "#Scale the data\n",
        "scaler = MinMaxScaler(feature_range=(0,1))\n",
        "scaled_data = scaler.fit_transform(dataset)\n",
        "scaled_data"
      ],
      "execution_count": 7,
      "outputs": [
        {
          "output_type": "execute_result",
          "data": {
            "text/plain": [
              "array([[7.11777216e-04],\n",
              "       [5.40369684e-04],\n",
              "       [4.32877025e-04],\n",
              "       ...,\n",
              "       [9.20600604e-01],\n",
              "       [9.28793234e-01],\n",
              "       [9.51729937e-01]])"
            ]
          },
          "metadata": {
            "tags": []
          },
          "execution_count": 7
        }
      ]
    },
    {
      "cell_type": "code",
      "metadata": {
        "colab": {
          "base_uri": "https://localhost:8080/"
        },
        "id": "nfv0UxgwxYU2",
        "outputId": "bb8dd060-0194-4496-c2e3-313208154edd"
      },
      "source": [
        "#Create the trainng data set\n",
        "#Create the scaled training data set\n",
        "train_data = scaled_data[0:training_data_len, :]\n",
        "#split the data into x_train and y_train data sets\n",
        "x_train = []\n",
        "y_train = []\n",
        "\n",
        "for i in range(60, len(train_data)):\n",
        "  x_train.append(train_data[i-60:i,0])\n",
        "  y_train.append(train_data[i, 0])\n",
        "  if i<=60:\n",
        "    print(x_train)\n",
        "    print(y_train)\n",
        "    print()\n"
      ],
      "execution_count": 8,
      "outputs": [
        {
          "output_type": "stream",
          "text": [
            "[array([0.00071178, 0.00054037, 0.00043288, 0.00041545, 0.0002237 ,\n",
            "       0.00021208, 0.00018012, 0.        , 0.00010168, 0.00028762,\n",
            "       0.00034572, 0.00042707, 0.00046774, 0.00066239, 0.00089771,\n",
            "       0.00118533, 0.00118242, 0.00148747, 0.00146423, 0.0013393 ,\n",
            "       0.0013364 , 0.00156591, 0.00140322, 0.00151652, 0.00181866,\n",
            "       0.00190872, 0.001839  , 0.00160077, 0.0014468 , 0.00160949,\n",
            "       0.00155719, 0.00119985, 0.00185062, 0.00163563, 0.00065367,\n",
            "       0.00092967, 0.00042707, 0.00044159, 0.00063624, 0.0005578 ,\n",
            "       0.00050551, 0.00077569, 0.00108655, 0.00138869, 0.00154557,\n",
            "       0.0016153 , 0.00179833, 0.00180414, 0.00176346, 0.00114465,\n",
            "       0.00069144, 0.00065077, 0.00063043, 0.00088318, 0.00090062,\n",
            "       0.00107783, 0.00134221, 0.00143808, 0.00152524, 0.0014468 ])]\n",
            "[0.0032015439345195965]\n",
            "\n"
          ],
          "name": "stdout"
        }
      ]
    },
    {
      "cell_type": "code",
      "metadata": {
        "id": "HnuG6ovq1Nik"
      },
      "source": [
        "#Convert the x_train and y_train to numpy array\n",
        "x_train, y_train = np.array(x_train), np.array(y_train)"
      ],
      "execution_count": 9,
      "outputs": []
    },
    {
      "cell_type": "code",
      "metadata": {
        "colab": {
          "base_uri": "https://localhost:8080/"
        },
        "id": "nvovr4Vk17Qg",
        "outputId": "3fc34c9b-d7e6-4204-c86d-d6cc123b4525"
      },
      "source": [
        "#Reshape the data\n",
        "print('before', x_train.shape)\n",
        "x_train = np.reshape(x_train, (x_train.shape[0], x_train.shape[1], 1))\n",
        "print('after', x_train.shape)\n"
      ],
      "execution_count": 10,
      "outputs": [
        {
          "output_type": "stream",
          "text": [
            "before (1549, 60)\n",
            "after (1549, 60, 1)\n"
          ],
          "name": "stdout"
        }
      ]
    },
    {
      "cell_type": "code",
      "metadata": {
        "id": "zolLn2Ln3MkC"
      },
      "source": [
        "#Build the LSTM Model\n",
        "model = Sequential()\n",
        "model.add(LSTM(50, return_sequences=True, input_shape=(x_train.shape[1],1)))\n",
        "model.add(LSTM(50, return_sequences=False))\n",
        "model.add(Dense(25))\n",
        "model.add(Dense(1))\n"
      ],
      "execution_count": 11,
      "outputs": []
    },
    {
      "cell_type": "code",
      "metadata": {
        "id": "T9upuDC15lOF"
      },
      "source": [
        "#Compile the model\n",
        "model.compile(optimizer='adam', loss='mean_squared_error')"
      ],
      "execution_count": 12,
      "outputs": []
    },
    {
      "cell_type": "code",
      "metadata": {
        "colab": {
          "base_uri": "https://localhost:8080/"
        },
        "id": "D4ZRs6065ln7",
        "outputId": "744680fc-b92b-49aa-ccdd-55cfecf7ec53"
      },
      "source": [
        "#Train the model\n",
        "model.fit(x_train, y_train, batch_size=1, epochs=1)"
      ],
      "execution_count": 13,
      "outputs": [
        {
          "output_type": "stream",
          "text": [
            "1549/1549 [==============================] - 36s 21ms/step - loss: 1.4530e-04\n"
          ],
          "name": "stdout"
        },
        {
          "output_type": "execute_result",
          "data": {
            "text/plain": [
              "<tensorflow.python.keras.callbacks.History at 0x7fa5af5c6a58>"
            ]
          },
          "metadata": {
            "tags": []
          },
          "execution_count": 13
        }
      ]
    },
    {
      "cell_type": "code",
      "metadata": {
        "colab": {
          "base_uri": "https://localhost:8080/"
        },
        "id": "ZADlRLTz6biM",
        "outputId": "1e17d7e4-0ceb-4593-f6b0-5001da90e311"
      },
      "source": [
        "#Create the testing data set\n",
        "#Create a new array containing scaled values from index 1549 to 2009\n",
        "test_data = scaled_data[training_data_len - 60: , :]\n",
        "\n",
        "#Create the data sets x_test, y_test\n",
        "x_test = []\n",
        "y_test = dataset[training_data_len:, :]\n",
        "\n",
        "for i in range(60, len(test_data)):\n",
        "  x_test.append(test_data[i-60:i, 0])\n",
        "\n",
        "  if i<=60:\n",
        "    print(x_test)\n",
        "    print()\n"
      ],
      "execution_count": 14,
      "outputs": [
        {
          "output_type": "stream",
          "text": [
            "[array([0.08337086, 0.07608168, 0.07334207, 0.07077967, 0.07069252,\n",
            "       0.0707942 , 0.07298763, 0.07495736, 0.07276103, 0.07438794,\n",
            "       0.07467847, 0.07045719, 0.0687315 , 0.06814464, 0.06992554,\n",
            "       0.07004756, 0.06729051, 0.06609647, 0.0682318 , 0.07028288,\n",
            "       0.07138395, 0.0717442 , 0.07445186, 0.07349314, 0.07521593,\n",
            "       0.06823471, 0.07032065, 0.06980933, 0.06955077, 0.07064022,\n",
            "       0.06842064, 0.06821147, 0.06782798, 0.06985582, 0.069237  ,\n",
            "       0.06982676, 0.06677338, 0.06710748, 0.06558515, 0.06238071,\n",
            "       0.0587521 , 0.06059109, 0.05978344, 0.0584238 , 0.06135516,\n",
            "       0.06453056, 0.06462062, 0.06221511, 0.06157015, 0.06073926,\n",
            "       0.06002458, 0.05639016, 0.05792992, 0.05782533, 0.05677365,\n",
            "       0.05174763, 0.05010037, 0.05001903, 0.0464311 , 0.04723293])]\n",
            "\n"
          ],
          "name": "stdout"
        }
      ]
    },
    {
      "cell_type": "code",
      "metadata": {
        "id": "y3WT5dRcBJtY"
      },
      "source": [
        "#Convert the data to a numpy array\n",
        "x_test = np.array(x_test)"
      ],
      "execution_count": 15,
      "outputs": []
    },
    {
      "cell_type": "code",
      "metadata": {
        "id": "4xdjvzrZBbHr"
      },
      "source": [
        "#Reshape the data\n",
        "x_test = np.reshape(x_test, (x_test.shape[0], x_test.shape[1], 1))"
      ],
      "execution_count": 16,
      "outputs": []
    },
    {
      "cell_type": "code",
      "metadata": {
        "id": "H8piAXFaCFfx"
      },
      "source": [
        "#Get the models predicted values\n",
        "predictions = model.predict(x_test)\n",
        "#scale back\n",
        "predictions = scaler.inverse_transform(predictions)"
      ],
      "execution_count": 17,
      "outputs": []
    },
    {
      "cell_type": "code",
      "metadata": {
        "colab": {
          "base_uri": "https://localhost:8080/"
        },
        "id": "jqO2YsHgCvmQ",
        "outputId": "f7ac4403-cd43-4d0b-e0d3-06cb0ebe56b8"
      },
      "source": [
        "# Get Root Mean Square Error (RMSE)\n",
        "# RMSE is a good measure of how accurate the model predicts the response and\n",
        "# it's the standard deviation of the residuals and the lower values usually \n",
        "# indicates the better fit. Usually you want to evaluate your model with other \n",
        "# metrics\n",
        "\n",
        "rmse = np.sqrt(np.mean(predictions - y_test)**2)\n",
        "rmse"
      ],
      "execution_count": 18,
      "outputs": [
        {
          "output_type": "execute_result",
          "data": {
            "text/plain": [
              "14.567802391242033"
            ]
          },
          "metadata": {
            "tags": []
          },
          "execution_count": 18
        }
      ]
    },
    {
      "cell_type": "code",
      "metadata": {
        "colab": {
          "base_uri": "https://localhost:8080/",
          "height": 570
        },
        "id": "lWAa5A5qEMve",
        "outputId": "978bd54f-9483-43a5-8c49-ccd04e6d645d"
      },
      "source": [
        "#Plot the data\n",
        "train = data[:training_data_len]\n",
        "valid = data[training_data_len:]\n",
        "valid['Predictions'] = predictions\n",
        "#Visualize the data\n",
        "plt.figure(figsize=(16,8))\n",
        "plt.title('Model')\n",
        "plt.xlabel('Date', fontsize=18)\n",
        "plt.ylabel('Closing Price USD ($)', fontsize=18)\n",
        "plt.plot(train['Close'])\n",
        "plt.plot(valid[['Close', 'Predictions']])\n",
        "plt.legend(['Train','Val','Predictions'], loc='lower right')\n",
        "plt.show()\n",
        "\n",
        "#Note\n",
        "# blue values on which model was trained\n",
        "# red is the actual values (closing price) for the rest of these days\n",
        "# yellow is the values predicted by the model"
      ],
      "execution_count": 19,
      "outputs": [
        {
          "output_type": "stream",
          "text": [
            "/usr/local/lib/python3.6/dist-packages/ipykernel_launcher.py:4: SettingWithCopyWarning: \n",
            "A value is trying to be set on a copy of a slice from a DataFrame.\n",
            "Try using .loc[row_indexer,col_indexer] = value instead\n",
            "\n",
            "See the caveats in the documentation: https://pandas.pydata.org/pandas-docs/stable/user_guide/indexing.html#returning-a-view-versus-a-copy\n",
            "  after removing the cwd from sys.path.\n"
          ],
          "name": "stderr"
        },
        {
          "output_type": "display_data",
          "data": {
            "image/png": "[encoded data removed]",
            "text/plain": [
              "<Figure size 1152x576 with 1 Axes>"
            ]
          },
          "metadata": {
            "tags": []
          }
        }
      ]
    },
    {
      "cell_type": "code",
      "metadata": {
        "colab": {
          "base_uri": "https://localhost:8080/",
          "height": 450
        },
        "id": "wCd-xKShHZCx",
        "outputId": "ced6d9f4-5130-49fd-b114-53b52d4a0769"
      },
      "source": [
        "#Show the valid and predicted prices\n",
        "valid"
      ],
      "execution_count": 20,
      "outputs": [
        {
          "output_type": "execute_result",
          "data": {
            "text/html": [
              "<div>\n",
              "<style scoped>\n",
              "    .dataframe tbody tr th:only-of-type {\n",
              "        vertical-align: middle;\n",
              "    }\n",
              "\n",
              "    .dataframe tbody tr th {\n",
              "        vertical-align: top;\n",
              "    }\n",
              "\n",
              "    .dataframe thead th {\n",
              "        text-align: right;\n",
              "    }\n",
              "</style>\n",
              "<table border=\"1\" class=\"dataframe\">\n",
              "  <thead>\n",
              "    <tr style=\"text-align: right;\">\n",
              "      <th></th>\n",
              "      <th>Close</th>\n",
              "      <th>Predictions</th>\n",
              "    </tr>\n",
              "    <tr>\n",
              "      <th>Date</th>\n",
              "      <th></th>\n",
              "      <th></th>\n",
              "    </tr>\n",
              "  </thead>\n",
              "  <tbody>\n",
              "    <tr>\n",
              "      <th>2019-05-24</th>\n",
              "      <td>38.125999</td>\n",
              "      <td>45.046364</td>\n",
              "    </tr>\n",
              "    <tr>\n",
              "      <th>2019-05-28</th>\n",
              "      <td>37.740002</td>\n",
              "      <td>44.093288</td>\n",
              "    </tr>\n",
              "    <tr>\n",
              "      <th>2019-05-29</th>\n",
              "      <td>37.972000</td>\n",
              "      <td>43.231186</td>\n",
              "    </tr>\n",
              "    <tr>\n",
              "      <th>2019-05-30</th>\n",
              "      <td>37.644001</td>\n",
              "      <td>42.532059</td>\n",
              "    </tr>\n",
              "    <tr>\n",
              "      <th>2019-05-31</th>\n",
              "      <td>37.032001</td>\n",
              "      <td>41.955608</td>\n",
              "    </tr>\n",
              "    <tr>\n",
              "      <th>...</th>\n",
              "      <td>...</td>\n",
              "      <td>...</td>\n",
              "    </tr>\n",
              "    <tr>\n",
              "      <th>2020-12-18</th>\n",
              "      <td>695.000000</td>\n",
              "      <td>557.814880</td>\n",
              "    </tr>\n",
              "    <tr>\n",
              "      <th>2020-12-21</th>\n",
              "      <td>649.859985</td>\n",
              "      <td>565.840942</td>\n",
              "    </tr>\n",
              "    <tr>\n",
              "      <th>2020-12-22</th>\n",
              "      <td>640.340027</td>\n",
              "      <td>569.920410</td>\n",
              "    </tr>\n",
              "    <tr>\n",
              "      <th>2020-12-23</th>\n",
              "      <td>645.979980</td>\n",
              "      <td>571.218994</td>\n",
              "    </tr>\n",
              "    <tr>\n",
              "      <th>2020-12-24</th>\n",
              "      <td>661.770020</td>\n",
              "      <td>571.702209</td>\n",
              "    </tr>\n",
              "  </tbody>\n",
              "</table>\n",
              "<p>402 rows × 2 columns</p>\n",
              "</div>"
            ],
            "text/plain": [
              "                 Close  Predictions\n",
              "Date                               \n",
              "2019-05-24   38.125999    45.046364\n",
              "2019-05-28   37.740002    44.093288\n",
              "2019-05-29   37.972000    43.231186\n",
              "2019-05-30   37.644001    42.532059\n",
              "2019-05-31   37.032001    41.955608\n",
              "...                ...          ...\n",
              "2020-12-18  695.000000   557.814880\n",
              "2020-12-21  649.859985   565.840942\n",
              "2020-12-22  640.340027   569.920410\n",
              "2020-12-23  645.979980   571.218994\n",
              "2020-12-24  661.770020   571.702209\n",
              "\n",
              "[402 rows x 2 columns]"
            ]
          },
          "metadata": {
            "tags": []
          },
          "execution_count": 20
        }
      ]
    },
    {
      "cell_type": "code",
      "metadata": {
        "colab": {
          "base_uri": "https://localhost:8080/"
        },
        "id": "QuD8VBhDHyA_",
        "outputId": "be5accc2-7a00-463b-e221-a5aaa7fd1fa7"
      },
      "source": [
        "# Try to predict the value\n",
        "# Get the quote\n",
        "apple_quote = web.DataReader('TSLA', data_source='yahoo', start='2013-01-01', end='2020-12-23')\n",
        "#Create a new dataframe\n",
        "new_df = apple_quote.filter(['Close'])\n",
        "#Get the last 60 day closing price values and convert the dataframe to an array\n",
        "last_60_days = new_df[-60:].values\n",
        "#Scale the data betwen 0 an 1\n",
        "last_60_days_scaled = scaler.transform(last_60_days)\n",
        "#Create an empty list\n",
        "X_test = []\n",
        "#Append the past 60 days\n",
        "X_test.append(last_60_days_scaled)\n",
        "#Convert the X_test dataset to numpy array\n",
        "X_test = np.array(X_test)\n",
        "#Reshape the data to be 3D shape\n",
        "X_test = np.reshape(X_test, (X_test.shape[0],X_test.shape[1],1))\n",
        "#Get the predicted scaled price\n",
        "pred_price = model.predict(X_test)\n",
        "#undo the scaling\n",
        "pred_price = scaler.inverse_transform(pred_price)\n",
        "print(pred_price)"
      ],
      "execution_count": 21,
      "outputs": [
        {
          "output_type": "stream",
          "text": [
            "[[571.7023]]\n"
          ],
          "name": "stdout"
        }
      ]
    },
    {
      "cell_type": "code",
      "metadata": {
        "colab": {
          "base_uri": "https://localhost:8080/"
        },
        "id": "VydXtLsMOe0L",
        "outputId": "240519ae-a932-46fb-f2ce-058d053a1d63"
      },
      "source": [
        "#Get the Quote\n",
        "apple_quote2 = web.DataReader('TSLA', data_source='yahoo', start='2020-12-24', end='2020-12-24')\n",
        "print(apple_quote2['Close'])"
      ],
      "execution_count": 22,
      "outputs": [
        {
          "output_type": "stream",
          "text": [
            "Date\n",
            "2020-12-24    661.77002\n",
            "2020-12-24    661.77002\n",
            "Name: Close, dtype: float64\n"
          ],
          "name": "stdout"
        }
      ]
    }
  ]
}