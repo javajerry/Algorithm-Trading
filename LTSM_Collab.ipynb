{
  "nbformat": 4,
  "nbformat_minor": 0,
  "metadata": {
    "colab": {
      "name": "LTSM_Collab.ipynb",
      "provenance": [],
      "authorship_tag": "ABX9TyMQECyJ0F1GF0HyZ8xflh0h",
      "include_colab_link": true
    },
    "kernelspec": {
      "name": "python3",
      "display_name": "Python 3"
    }
  },
  "cells": [
    {
      "cell_type": "markdown",
      "metadata": {
        "id": "view-in-github",
        "colab_type": "text"
      },
      "source": [
        "<a href=\"https://colab.research.google.com/github/javajerry/Algorithm-Trading/blob/main/LTSM_Collab.ipynb\" target=\"_parent\"><img src=\"https://colab.research.google.com/assets/colab-badge.svg\" alt=\"Open In Colab\"/></a>"
      ]
    },
    {
      "cell_type": "code",
      "metadata": {
        "id": "WiaHt-w2qbwV"
      },
      "source": [
        "# Description: This program uses an artifical recurrent neural network called Long Short Term Memory(LSTM) \n",
        "#              to predict the closing stock proce of a corporation(applie Inc.) using the past 60 days stock price.\n"
      ],
      "execution_count": null,
      "outputs": []
    },
    {
      "cell_type": "code",
      "metadata": {
        "id": "xnIEaE3xrYKk"
      },
      "source": [
        "#import the library\n",
        "import math\n",
        "import pandas_datareader as web\n",
        "import numpy as np\n",
        "import pandas as pd\n",
        "from sklearn.preprocessing import MinMaxScaler\n",
        "from keras.models import Sequential\n",
        "from keras.layers import Dense, LSTM\n",
        "import matplotlib.pyplot as plt\n",
        "plt.style.use('fivethirtyeight')"
      ],
      "execution_count": 2,
      "outputs": []
    },
    {
      "cell_type": "code",
      "metadata": {
        "colab": {
          "base_uri": "https://localhost:8080/",
          "height": 450
        },
        "id": "L99qu_rlsPOa",
        "outputId": "ddf8afe8-5956-47d8-90e2-129074e26d87"
      },
      "source": [
        "#Get the stock quoote\n",
        "df = web.DataReader('AAPL', data_source='yahoo', start='2013-01-01', end='2020-12-24')\n",
        "# show the data\n",
        "df"
      ],
      "execution_count": 3,
      "outputs": [
        {
          "output_type": "execute_result",
          "data": {
            "text/html": [
              "<div>\n",
              "<style scoped>\n",
              "    .dataframe tbody tr th:only-of-type {\n",
              "        vertical-align: middle;\n",
              "    }\n",
              "\n",
              "    .dataframe tbody tr th {\n",
              "        vertical-align: top;\n",
              "    }\n",
              "\n",
              "    .dataframe thead th {\n",
              "        text-align: right;\n",
              "    }\n",
              "</style>\n",
              "<table border=\"1\" class=\"dataframe\">\n",
              "  <thead>\n",
              "    <tr style=\"text-align: right;\">\n",
              "      <th></th>\n",
              "      <th>High</th>\n",
              "      <th>Low</th>\n",
              "      <th>Open</th>\n",
              "      <th>Close</th>\n",
              "      <th>Volume</th>\n",
              "      <th>Adj Close</th>\n",
              "    </tr>\n",
              "    <tr>\n",
              "      <th>Date</th>\n",
              "      <th></th>\n",
              "      <th></th>\n",
              "      <th></th>\n",
              "      <th></th>\n",
              "      <th></th>\n",
              "      <th></th>\n",
              "    </tr>\n",
              "  </thead>\n",
              "  <tbody>\n",
              "    <tr>\n",
              "      <th>2013-01-02</th>\n",
              "      <td>19.821428</td>\n",
              "      <td>19.343929</td>\n",
              "      <td>19.779285</td>\n",
              "      <td>19.608213</td>\n",
              "      <td>560518000.0</td>\n",
              "      <td>17.065252</td>\n",
              "    </tr>\n",
              "    <tr>\n",
              "      <th>2013-01-03</th>\n",
              "      <td>19.631071</td>\n",
              "      <td>19.321428</td>\n",
              "      <td>19.567142</td>\n",
              "      <td>19.360714</td>\n",
              "      <td>352965200.0</td>\n",
              "      <td>16.849854</td>\n",
              "    </tr>\n",
              "    <tr>\n",
              "      <th>2013-01-04</th>\n",
              "      <td>19.236786</td>\n",
              "      <td>18.779642</td>\n",
              "      <td>19.177500</td>\n",
              "      <td>18.821428</td>\n",
              "      <td>594333600.0</td>\n",
              "      <td>16.380503</td>\n",
              "    </tr>\n",
              "    <tr>\n",
              "      <th>2013-01-07</th>\n",
              "      <td>18.903572</td>\n",
              "      <td>18.400000</td>\n",
              "      <td>18.642857</td>\n",
              "      <td>18.710714</td>\n",
              "      <td>484156400.0</td>\n",
              "      <td>16.284145</td>\n",
              "    </tr>\n",
              "    <tr>\n",
              "      <th>2013-01-08</th>\n",
              "      <td>18.996071</td>\n",
              "      <td>18.616072</td>\n",
              "      <td>18.900356</td>\n",
              "      <td>18.761072</td>\n",
              "      <td>458707200.0</td>\n",
              "      <td>16.327978</td>\n",
              "    </tr>\n",
              "    <tr>\n",
              "      <th>...</th>\n",
              "      <td>...</td>\n",
              "      <td>...</td>\n",
              "      <td>...</td>\n",
              "      <td>...</td>\n",
              "      <td>...</td>\n",
              "      <td>...</td>\n",
              "    </tr>\n",
              "    <tr>\n",
              "      <th>2020-12-18</th>\n",
              "      <td>129.100006</td>\n",
              "      <td>126.120003</td>\n",
              "      <td>128.960007</td>\n",
              "      <td>126.660004</td>\n",
              "      <td>192541500.0</td>\n",
              "      <td>126.660004</td>\n",
              "    </tr>\n",
              "    <tr>\n",
              "      <th>2020-12-21</th>\n",
              "      <td>128.309998</td>\n",
              "      <td>123.449997</td>\n",
              "      <td>125.019997</td>\n",
              "      <td>128.229996</td>\n",
              "      <td>121251600.0</td>\n",
              "      <td>128.229996</td>\n",
              "    </tr>\n",
              "    <tr>\n",
              "      <th>2020-12-22</th>\n",
              "      <td>134.410004</td>\n",
              "      <td>129.649994</td>\n",
              "      <td>131.610001</td>\n",
              "      <td>131.880005</td>\n",
              "      <td>168904800.0</td>\n",
              "      <td>131.880005</td>\n",
              "    </tr>\n",
              "    <tr>\n",
              "      <th>2020-12-23</th>\n",
              "      <td>132.429993</td>\n",
              "      <td>130.779999</td>\n",
              "      <td>132.160004</td>\n",
              "      <td>130.960007</td>\n",
              "      <td>88223700.0</td>\n",
              "      <td>130.960007</td>\n",
              "    </tr>\n",
              "    <tr>\n",
              "      <th>2020-12-24</th>\n",
              "      <td>133.460007</td>\n",
              "      <td>131.100006</td>\n",
              "      <td>131.320007</td>\n",
              "      <td>131.970001</td>\n",
              "      <td>54930100.0</td>\n",
              "      <td>131.970001</td>\n",
              "    </tr>\n",
              "  </tbody>\n",
              "</table>\n",
              "<p>2011 rows × 6 columns</p>\n",
              "</div>"
            ],
            "text/plain": [
              "                  High         Low  ...       Volume   Adj Close\n",
              "Date                                ...                         \n",
              "2013-01-02   19.821428   19.343929  ...  560518000.0   17.065252\n",
              "2013-01-03   19.631071   19.321428  ...  352965200.0   16.849854\n",
              "2013-01-04   19.236786   18.779642  ...  594333600.0   16.380503\n",
              "2013-01-07   18.903572   18.400000  ...  484156400.0   16.284145\n",
              "2013-01-08   18.996071   18.616072  ...  458707200.0   16.327978\n",
              "...                ...         ...  ...          ...         ...\n",
              "2020-12-18  129.100006  126.120003  ...  192541500.0  126.660004\n",
              "2020-12-21  128.309998  123.449997  ...  121251600.0  128.229996\n",
              "2020-12-22  134.410004  129.649994  ...  168904800.0  131.880005\n",
              "2020-12-23  132.429993  130.779999  ...   88223700.0  130.960007\n",
              "2020-12-24  133.460007  131.100006  ...   54930100.0  131.970001\n",
              "\n",
              "[2011 rows x 6 columns]"
            ]
          },
          "metadata": {
            "tags": []
          },
          "execution_count": 3
        }
      ]
    },
    {
      "cell_type": "code",
      "metadata": {
        "colab": {
          "base_uri": "https://localhost:8080/"
        },
        "id": "sEP-U8mftTqd",
        "outputId": "8e7a3b99-f2d2-4dda-9696-2a5db81269f3"
      },
      "source": [
        "# Get the number of rows and columns in the data set\n",
        "df.shape"
      ],
      "execution_count": 4,
      "outputs": [
        {
          "output_type": "execute_result",
          "data": {
            "text/plain": [
              "(2011, 6)"
            ]
          },
          "metadata": {
            "tags": []
          },
          "execution_count": 4
        }
      ]
    },
    {
      "cell_type": "code",
      "metadata": {
        "colab": {
          "base_uri": "https://localhost:8080/",
          "height": 434
        },
        "id": "-S1ncSNot7P-",
        "outputId": "614a3577-6383-4ab9-a09e-9477d82af6f7"
      },
      "source": [
        "# Visualize the closing price history\n",
        "plt.figure(figsize=(16,8))\n",
        "plt.title('Close Price History')\n",
        "plt.plot(df['Close'])\n",
        "plt.xlabel('Date', fontsize=1)\n",
        "plt.ylabel('Close Price USD ($)', fontsize=18)\n",
        "plt.show()\n"
      ],
      "execution_count": 5,
      "outputs": [
        {
          "output_type": "display_data",
          "data": {
            "image/png": "[encoded data removed]",
            "text/plain": [
              "<Figure size 1152x576 with 1 Axes>"
            ]
          },
          "metadata": {
            "tags": []
          }
        }
      ]
    },
    {
      "cell_type": "code",
      "metadata": {
        "colab": {
          "base_uri": "https://localhost:8080/"
        },
        "id": "9RvyV5W5t7Rd",
        "outputId": "a73e9d43-3624-45e3-803f-ca387bf3ae45"
      },
      "source": [
        "#Create a new daataframe with only the 'Close' column\n",
        "data = df.filter(['Close'])\n",
        "#Convert the dataframe to a numpy array\n",
        "dataset = data.values\n",
        "#Get the number of rows to train the model on\n",
        "training_data_len = math.ceil(len(dataset) * .8)\n",
        "\n",
        "training_data_len"
      ],
      "execution_count": 6,
      "outputs": [
        {
          "output_type": "execute_result",
          "data": {
            "text/plain": [
              "1609"
            ]
          },
          "metadata": {
            "tags": []
          },
          "execution_count": 6
        }
      ]
    },
    {
      "cell_type": "code",
      "metadata": {
        "colab": {
          "base_uri": "https://localhost:8080/"
        },
        "id": "eQyIJCPfxNXs",
        "outputId": "293868e9-49d3-4d6e-a2e4-66c2b285b291"
      },
      "source": [
        "#Scale the data\n",
        "scaler = MinMaxScaler(feature_range=(0,1))\n",
        "scaled_data = scaler.fit_transform(dataset)\n",
        "scaled_data"
      ],
      "execution_count": 7,
      "outputs": [
        {
          "output_type": "execute_result",
          "data": {
            "text/plain": [
              "array([[0.04708139],\n",
              "       [0.04502289],\n",
              "       [0.04053753],\n",
              "       ...,\n",
              "       [0.9808705 ],\n",
              "       [0.97321867],\n",
              "       [0.98161902]])"
            ]
          },
          "metadata": {
            "tags": []
          },
          "execution_count": 7
        }
      ]
    },
    {
      "cell_type": "code",
      "metadata": {
        "colab": {
          "base_uri": "https://localhost:8080/"
        },
        "id": "nfv0UxgwxYU2",
        "outputId": "d66f66e5-4344-4d05-acb4-25dbf735e788"
      },
      "source": [
        "#Create the trainng data set\n",
        "#Create the scaled training data set\n",
        "train_data = scaled_data[0:training_data_len, :]\n",
        "#split the data into x_train and y_train data sets\n",
        "x_train = []\n",
        "y_train = []\n",
        "\n",
        "for i in range(60, len(train_data)):\n",
        "  x_train.append(train_data[i-60:i,0])\n",
        "  y_train.append(train_data[i, 0])\n",
        "  if i<=60:\n",
        "    print(x_train)\n",
        "    print(y_train)\n",
        "    print()\n"
      ],
      "execution_count": 10,
      "outputs": [
        {
          "output_type": "stream",
          "text": [
            "[array([0.04708139, 0.04502289, 0.04053753, 0.0396167 , 0.04003553,\n",
            "       0.0375968 , 0.03950084, 0.03854735, 0.03303719, 0.02833499,\n",
            "       0.03432634, 0.03331344, 0.03251736, 0.03393425, 0.03667894,\n",
            "       0.01781369, 0.0146591 , 0.01761468, 0.02012172, 0.01969399,\n",
            "       0.01929595, 0.01874047, 0.01538388, 0.019994  , 0.01984845,\n",
            "       0.02307731, 0.02508533, 0.0265557 , 0.02298226, 0.02271789,\n",
            "       0.02259313, 0.02068314, 0.02063265, 0.01732358, 0.01649483,\n",
            "       0.01790578, 0.01552646, 0.01735923, 0.01605223, 0.01511061,\n",
            "       0.01186392, 0.00876872, 0.01206293, 0.01043514, 0.01189659,\n",
            "       0.01223522, 0.01406204, 0.01125795, 0.01123418, 0.01246691,\n",
            "       0.01578192, 0.01936427, 0.0189989 , 0.01828302, 0.0184761 ,\n",
            "       0.02120297, 0.02169903, 0.02097424, 0.01828302, 0.01548488])]\n",
            "[0.011400530420072968]\n",
            "\n"
          ],
          "name": "stdout"
        }
      ]
    },
    {
      "cell_type": "code",
      "metadata": {
        "id": "HnuG6ovq1Nik"
      },
      "source": [
        "#Convert the x_train and y_train to numpy array\n",
        "x_train, y_train = np.array(x_train), np.array(y_train)"
      ],
      "execution_count": 12,
      "outputs": []
    },
    {
      "cell_type": "code",
      "metadata": {
        "colab": {
          "base_uri": "https://localhost:8080/"
        },
        "id": "nvovr4Vk17Qg",
        "outputId": "e8a65c72-f9c5-4e53-857b-55706c736bff"
      },
      "source": [
        "#Reshape the data\n",
        "print('before', x_train.shape)\n",
        "x_train = np.reshape(x_train, (x_train.shape[0], x_train.shape[1], 1))\n",
        "print('after', x_train.shape)\n"
      ],
      "execution_count": 16,
      "outputs": [
        {
          "output_type": "stream",
          "text": [
            "before (1549, 60)\n",
            "after (1549, 60, 1)\n"
          ],
          "name": "stdout"
        }
      ]
    },
    {
      "cell_type": "code",
      "metadata": {
        "id": "zolLn2Ln3MkC"
      },
      "source": [
        "#Build the LSTM Model\n",
        "model = Sequential()\n",
        "model.add(LSTM(50, return_sequences=True, input_shape=(x_train.shape[1],1)))\n",
        "model.add(LSTM(50, return_sequences=False))\n",
        "model.add(Dense(25))\n",
        "model.add(Dense(1))\n"
      ],
      "execution_count": 19,
      "outputs": []
    },
    {
      "cell_type": "code",
      "metadata": {
        "id": "T9upuDC15lOF"
      },
      "source": [
        "#Compile the model\n",
        "model.compile(optimizer='adam', loss='mean_squared_error')"
      ],
      "execution_count": 21,
      "outputs": []
    },
    {
      "cell_type": "code",
      "metadata": {
        "colab": {
          "base_uri": "https://localhost:8080/"
        },
        "id": "D4ZRs6065ln7",
        "outputId": "f6edeaea-2751-4bb5-9c17-aeea23f98eaf"
      },
      "source": [
        "#Train the model\n",
        "model.fit(x_train, y_train, batch_size=1, epochs=1)"
      ],
      "execution_count": 22,
      "outputs": [
        {
          "output_type": "stream",
          "text": [
            "1549/1549 [==============================] - 38s 23ms/step - loss: 0.0012\n"
          ],
          "name": "stdout"
        },
        {
          "output_type": "execute_result",
          "data": {
            "text/plain": [
              "<tensorflow.python.keras.callbacks.History at 0x7f8022c686a0>"
            ]
          },
          "metadata": {
            "tags": []
          },
          "execution_count": 22
        }
      ]
    },
    {
      "cell_type": "code",
      "metadata": {
        "colab": {
          "base_uri": "https://localhost:8080/"
        },
        "id": "ZADlRLTz6biM",
        "outputId": "58e7e10f-6ec0-4536-f655-dec8351f65b9"
      },
      "source": [
        "#Create the testing data set\n",
        "#Create a new array containing scaled values from index 1549 to 2009\n",
        "test_data = scaled_data[training_data_len - 60: , :]\n",
        "\n",
        "#Create the data sets x_test, y_test\n",
        "x_test = []\n",
        "y_test = dataset[training_data_len:, :]\n",
        "\n",
        "for i in range(60, len(test_data)):\n",
        "  x_test.append(test_data[i-60:i, 0])\n",
        "\n",
        "  if i<=60:\n",
        "    print(x_test)\n",
        "    print()\n"
      ],
      "execution_count": 24,
      "outputs": [
        {
          "output_type": "stream",
          "text": [
            "[array([0.2440272 , 0.24781155, 0.24964135, 0.24897595, 0.24687587,\n",
            "       0.24267566, 0.24352819, 0.2559832 , 0.26016262, 0.26182607,\n",
            "       0.26602625, 0.27099578, 0.27494648, 0.27184831, 0.27523758,\n",
            "       0.28964715, 0.28124677, 0.27644358, 0.27238891, 0.27588216,\n",
            "       0.27640199, 0.27895953, 0.28164185, 0.28742231, 0.29018779,\n",
            "       0.29089475, 0.29361863, 0.30006449, 0.29881689, 0.3011457 ,\n",
            "       0.29767327, 0.29750692, 0.29825547, 0.29829707, 0.30636478,\n",
            "       0.30788266, 0.30927579, 0.31540974, 0.31474437, 0.31083527,\n",
            "       0.30879756, 0.30944214, 0.30124968, 0.32173084, 0.31888217,\n",
            "       0.32428838, 0.31748904, 0.30580336, 0.30588652, 0.30135365,\n",
            "       0.29399289, 0.27016407, 0.27627724, 0.28097645, 0.27922984,\n",
            "       0.27698419, 0.26469549, 0.27199387, 0.26405091, 0.25756349])]\n",
            "\n"
          ],
          "name": "stdout"
        }
      ]
    },
    {
      "cell_type": "code",
      "metadata": {
        "id": "y3WT5dRcBJtY"
      },
      "source": [
        "#Convert the data to a numpy array\n",
        "x_test = np.array(x_test)"
      ],
      "execution_count": 25,
      "outputs": []
    },
    {
      "cell_type": "code",
      "metadata": {
        "id": "4xdjvzrZBbHr"
      },
      "source": [
        "#Reshape the data\n",
        "x_test = np.reshape(x_test, (x_test.shape[0], x_test.shape[1], 1))"
      ],
      "execution_count": 26,
      "outputs": []
    },
    {
      "cell_type": "code",
      "metadata": {
        "id": "H8piAXFaCFfx"
      },
      "source": [
        "#Get the models predicted values\n",
        "predictions = model.predict(x_test)\n",
        "#scale back\n",
        "predictions = scaler.inverse_transform(predictions)"
      ],
      "execution_count": 29,
      "outputs": []
    },
    {
      "cell_type": "code",
      "metadata": {
        "colab": {
          "base_uri": "https://localhost:8080/"
        },
        "id": "jqO2YsHgCvmQ",
        "outputId": "b6196b90-4ef7-4c7c-9ebc-9dca3e7c5500"
      },
      "source": [
        "# Get Root Mean Square Error (RMSE)\n",
        "# RMSE is a good measure of how accurate the model predicts the response and\n",
        "# it's the standard deviation of the residuals and the lower values usually \n",
        "# indicates the better fit. Usually you want to evaluate your model with other \n",
        "# metrics\n",
        "\n",
        "rmse = np.sqrt(np.mean(predictions - y_test)**2)\n",
        "rmse"
      ],
      "execution_count": 30,
      "outputs": [
        {
          "output_type": "execute_result",
          "data": {
            "text/plain": [
              "0.91401278557469"
            ]
          },
          "metadata": {
            "tags": []
          },
          "execution_count": 30
        }
      ]
    },
    {
      "cell_type": "code",
      "metadata": {
        "colab": {
          "base_uri": "https://localhost:8080/",
          "height": 570
        },
        "id": "lWAa5A5qEMve",
        "outputId": "f76a4974-c592-41e0-8e07-3df8ec476c47"
      },
      "source": [
        "#Plot the data\n",
        "train = data[:training_data_len]\n",
        "valid = data[training_data_len:]\n",
        "valid['Predictions'] = predictions\n",
        "#Visualize the data\n",
        "plt.figure(figsize=(16,8))\n",
        "plt.title('Model')\n",
        "plt.xlabel('Date', fontsize=18)\n",
        "plt.ylabel('Closing Price USD ($)', fontsize=18)\n",
        "plt.plot(train['Close'])\n",
        "plt.plot(valid[['Close', 'Predictions']])\n",
        "plt.legend(['Train','Val','Predictions'], loc='lower right')\n",
        "plt.show()\n",
        "\n",
        "#Note\n",
        "# blue values on which model was trained\n",
        "# red is the actual values (closing price) for the rest of these days\n",
        "# yellow is the values predicted by the model"
      ],
      "execution_count": 33,
      "outputs": [
        {
          "output_type": "stream",
          "text": [
            "/usr/local/lib/python3.6/dist-packages/ipykernel_launcher.py:4: SettingWithCopyWarning: \n",
            "A value is trying to be set on a copy of a slice from a DataFrame.\n",
            "Try using .loc[row_indexer,col_indexer] = value instead\n",
            "\n",
            "See the caveats in the documentation: https://pandas.pydata.org/pandas-docs/stable/user_guide/indexing.html#returning-a-view-versus-a-copy\n",
            "  after removing the cwd from sys.path.\n"
          ],
          "name": "stderr"
        },
        {
          "output_type": "display_data",
          "data": {
            "image/png": "[encoded data removed]",
            "text/plain": [
              "<Figure size 1152x576 with 1 Axes>"
            ]
          },
          "metadata": {
            "tags": []
          }
        }
      ]
    },
    {
      "cell_type": "code",
      "metadata": {
        "colab": {
          "base_uri": "https://localhost:8080/",
          "height": 450
        },
        "id": "wCd-xKShHZCx",
        "outputId": "ecd6da20-f307-4523-dfdd-d0650d73f19a"
      },
      "source": [
        "#Show the valid and predicted prices\n",
        "valid"
      ],
      "execution_count": 34,
      "outputs": [
        {
          "output_type": "execute_result",
          "data": {
            "text/html": [
              "<div>\n",
              "<style scoped>\n",
              "    .dataframe tbody tr th:only-of-type {\n",
              "        vertical-align: middle;\n",
              "    }\n",
              "\n",
              "    .dataframe tbody tr th {\n",
              "        vertical-align: top;\n",
              "    }\n",
              "\n",
              "    .dataframe thead th {\n",
              "        text-align: right;\n",
              "    }\n",
              "</style>\n",
              "<table border=\"1\" class=\"dataframe\">\n",
              "  <thead>\n",
              "    <tr style=\"text-align: right;\">\n",
              "      <th></th>\n",
              "      <th>Close</th>\n",
              "      <th>Predictions</th>\n",
              "    </tr>\n",
              "    <tr>\n",
              "      <th>Date</th>\n",
              "      <th></th>\n",
              "      <th></th>\n",
              "    </tr>\n",
              "  </thead>\n",
              "  <tbody>\n",
              "    <tr>\n",
              "      <th>2019-05-24</th>\n",
              "      <td>44.742500</td>\n",
              "      <td>47.950989</td>\n",
              "    </tr>\n",
              "    <tr>\n",
              "      <th>2019-05-28</th>\n",
              "      <td>44.557499</td>\n",
              "      <td>47.507690</td>\n",
              "    </tr>\n",
              "    <tr>\n",
              "      <th>2019-05-29</th>\n",
              "      <td>44.345001</td>\n",
              "      <td>47.089939</td>\n",
              "    </tr>\n",
              "    <tr>\n",
              "      <th>2019-05-30</th>\n",
              "      <td>44.575001</td>\n",
              "      <td>46.704842</td>\n",
              "    </tr>\n",
              "    <tr>\n",
              "      <th>2019-05-31</th>\n",
              "      <td>43.767502</td>\n",
              "      <td>46.398380</td>\n",
              "    </tr>\n",
              "    <tr>\n",
              "      <th>...</th>\n",
              "      <td>...</td>\n",
              "      <td>...</td>\n",
              "    </tr>\n",
              "    <tr>\n",
              "      <th>2020-12-18</th>\n",
              "      <td>126.660004</td>\n",
              "      <td>125.475388</td>\n",
              "    </tr>\n",
              "    <tr>\n",
              "      <th>2020-12-21</th>\n",
              "      <td>128.229996</td>\n",
              "      <td>126.049515</td>\n",
              "    </tr>\n",
              "    <tr>\n",
              "      <th>2020-12-22</th>\n",
              "      <td>131.880005</td>\n",
              "      <td>126.621712</td>\n",
              "    </tr>\n",
              "    <tr>\n",
              "      <th>2020-12-23</th>\n",
              "      <td>130.960007</td>\n",
              "      <td>127.516449</td>\n",
              "    </tr>\n",
              "    <tr>\n",
              "      <th>2020-12-24</th>\n",
              "      <td>131.970001</td>\n",
              "      <td>128.328674</td>\n",
              "    </tr>\n",
              "  </tbody>\n",
              "</table>\n",
              "<p>402 rows × 2 columns</p>\n",
              "</div>"
            ],
            "text/plain": [
              "                 Close  Predictions\n",
              "Date                               \n",
              "2019-05-24   44.742500    47.950989\n",
              "2019-05-28   44.557499    47.507690\n",
              "2019-05-29   44.345001    47.089939\n",
              "2019-05-30   44.575001    46.704842\n",
              "2019-05-31   43.767502    46.398380\n",
              "...                ...          ...\n",
              "2020-12-18  126.660004   125.475388\n",
              "2020-12-21  128.229996   126.049515\n",
              "2020-12-22  131.880005   126.621712\n",
              "2020-12-23  130.960007   127.516449\n",
              "2020-12-24  131.970001   128.328674\n",
              "\n",
              "[402 rows x 2 columns]"
            ]
          },
          "metadata": {
            "tags": []
          },
          "execution_count": 34
        }
      ]
    },
    {
      "cell_type": "code",
      "metadata": {
        "colab": {
          "base_uri": "https://localhost:8080/"
        },
        "id": "QuD8VBhDHyA_",
        "outputId": "bb7e4502-1163-4600-cd93-0a143faee2a8"
      },
      "source": [
        "# Try to predict the value\n",
        "# Get the quote\n",
        "apple_quote = web.DataReader('AAPL', data_source='yahoo', start='2013-01-01', end='2020-12-23')\n",
        "#Create a new dataframe\n",
        "new_df = apple_quote.filter(['Close'])\n",
        "#Get the last 60 day closing price values and convert the dataframe to an array\n",
        "last_60_days = new_df[-60:].values\n",
        "#Scale the data betwen 0 an 1\n",
        "last_60_days_scaled = scaler.transform(last_60_days)\n",
        "#Create an empty list\n",
        "X_test = []\n",
        "#Append the past 60 days\n",
        "X_test.append(last_60_days_scaled)\n",
        "#Convert the X_test dataset to numpy array\n",
        "X_test = np.array(X_test)\n",
        "#Reshape the data to be 3D shape\n",
        "X_test = np.reshape(X_test, (X_test.shape[0],X_test.shape[1],1))\n",
        "#Get the predicted scaled price\n",
        "pred_price = model.predict(X_test)\n",
        "#undo the scaling\n",
        "pred_price = scaler.inverse_transform(pred_price)\n",
        "print(pred_price)"
      ],
      "execution_count": 38,
      "outputs": [
        {
          "output_type": "stream",
          "text": [
            "[[128.32867]]\n"
          ],
          "name": "stdout"
        }
      ]
    },
    {
      "cell_type": "code",
      "metadata": {
        "colab": {
          "base_uri": "https://localhost:8080/"
        },
        "id": "VydXtLsMOe0L",
        "outputId": "7d4f146c-5fa2-43c2-e8ee-28628ebc6241"
      },
      "source": [
        "#Get the Quote\n",
        "apple_quote2 = web.DataReader('AAPL', data_source='yahoo', start='2020-12-24', end='2020-12-24')\n",
        "print(apple_quote2['Close'])"
      ],
      "execution_count": 39,
      "outputs": [
        {
          "output_type": "stream",
          "text": [
            "Date\n",
            "2020-12-24    131.970001\n",
            "2020-12-24    131.970001\n",
            "Name: Close, dtype: float64\n"
          ],
          "name": "stdout"
        }
      ]
    }
  ]
}