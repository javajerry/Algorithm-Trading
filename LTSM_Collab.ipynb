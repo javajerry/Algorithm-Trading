{
  "nbformat": 4,
  "nbformat_minor": 0,
  "metadata": {
    "colab": {
      "name": "LTSM_Collab.ipynb",
      "provenance": [],
      "authorship_tag": "ABX9TyOeHXGKcefyoFhTYutZP5Jk",
      "include_colab_link": true
    },
    "kernelspec": {
      "name": "python3",
      "display_name": "Python 3"
    }
  },
  "cells": [
    {
      "cell_type": "markdown",
      "metadata": {
        "id": "view-in-github",
        "colab_type": "text"
      },
      "source": [
        "<a href=\"https://colab.research.google.com/github/javajerry/Algorithm-Trading/blob/main/LTSM_Collab.ipynb\" target=\"_parent\"><img src=\"https://colab.research.google.com/assets/colab-badge.svg\" alt=\"Open In Colab\"/></a>"
      ]
    },
    {
      "cell_type": "code",
      "metadata": {
        "id": "WiaHt-w2qbwV"
      },
      "source": [
        "# Description: This program uses an artifical recurrent neural network called Long Short Term Memory(LSTM) \n",
        "#              to predict the closing stock proce of a corporation(applie Inc.) using the past 60 days stock price.\n"
      ],
      "execution_count": null,
      "outputs": []
    },
    {
      "cell_type": "code",
      "metadata": {
        "id": "xnIEaE3xrYKk"
      },
      "source": [
        "#import the library\n",
        "import math\n",
        "import pandas_datareader as web\n",
        "import numpy as np\n",
        "import pandas as pd\n",
        "from sklearn.preprocessing import MinMaxScaler\n",
        "from keras.models import Sequential\n",
        "from keras.layers import Dense, LSTM\n",
        "import matplotlib.pyplot as plt\n",
        "plt.style.use('fivethirtyeight')"
      ],
      "execution_count": 2,
      "outputs": []
    },
    {
      "cell_type": "code",
      "metadata": {
        "colab": {
          "base_uri": "https://localhost:8080/",
          "height": 450
        },
        "id": "L99qu_rlsPOa",
        "outputId": "ddf8afe8-5956-47d8-90e2-129074e26d87"
      },
      "source": [
        "#Get the stock quoote\n",
        "df = web.DataReader('AAPL', data_source='yahoo', start='2013-01-01', end='2020-12-24')\n",
        "# show the data\n",
        "df"
      ],
      "execution_count": 3,
      "outputs": [
        {
          "output_type": "execute_result",
          "data": {
            "text/html": [
              "<div>\n",
              "<style scoped>\n",
              "    .dataframe tbody tr th:only-of-type {\n",
              "        vertical-align: middle;\n",
              "    }\n",
              "\n",
              "    .dataframe tbody tr th {\n",
              "        vertical-align: top;\n",
              "    }\n",
              "\n",
              "    .dataframe thead th {\n",
              "        text-align: right;\n",
              "    }\n",
              "</style>\n",
              "<table border=\"1\" class=\"dataframe\">\n",
              "  <thead>\n",
              "    <tr style=\"text-align: right;\">\n",
              "      <th></th>\n",
              "      <th>High</th>\n",
              "      <th>Low</th>\n",
              "      <th>Open</th>\n",
              "      <th>Close</th>\n",
              "      <th>Volume</th>\n",
              "      <th>Adj Close</th>\n",
              "    </tr>\n",
              "    <tr>\n",
              "      <th>Date</th>\n",
              "      <th></th>\n",
              "      <th></th>\n",
              "      <th></th>\n",
              "      <th></th>\n",
              "      <th></th>\n",
              "      <th></th>\n",
              "    </tr>\n",
              "  </thead>\n",
              "  <tbody>\n",
              "    <tr>\n",
              "      <th>2013-01-02</th>\n",
              "      <td>19.821428</td>\n",
              "      <td>19.343929</td>\n",
              "      <td>19.779285</td>\n",
              "      <td>19.608213</td>\n",
              "      <td>560518000.0</td>\n",
              "      <td>17.065252</td>\n",
              "    </tr>\n",
              "    <tr>\n",
              "      <th>2013-01-03</th>\n",
              "      <td>19.631071</td>\n",
              "      <td>19.321428</td>\n",
              "      <td>19.567142</td>\n",
              "      <td>19.360714</td>\n",
              "      <td>352965200.0</td>\n",
              "      <td>16.849854</td>\n",
              "    </tr>\n",
              "    <tr>\n",
              "      <th>2013-01-04</th>\n",
              "      <td>19.236786</td>\n",
              "      <td>18.779642</td>\n",
              "      <td>19.177500</td>\n",
              "      <td>18.821428</td>\n",
              "      <td>594333600.0</td>\n",
              "      <td>16.380503</td>\n",
              "    </tr>\n",
              "    <tr>\n",
              "      <th>2013-01-07</th>\n",
              "      <td>18.903572</td>\n",
              "      <td>18.400000</td>\n",
              "      <td>18.642857</td>\n",
              "      <td>18.710714</td>\n",
              "      <td>484156400.0</td>\n",
              "      <td>16.284145</td>\n",
              "    </tr>\n",
              "    <tr>\n",
              "      <th>2013-01-08</th>\n",
              "      <td>18.996071</td>\n",
              "      <td>18.616072</td>\n",
              "      <td>18.900356</td>\n",
              "      <td>18.761072</td>\n",
              "      <td>458707200.0</td>\n",
              "      <td>16.327978</td>\n",
              "    </tr>\n",
              "    <tr>\n",
              "      <th>...</th>\n",
              "      <td>...</td>\n",
              "      <td>...</td>\n",
              "      <td>...</td>\n",
              "      <td>...</td>\n",
              "      <td>...</td>\n",
              "      <td>...</td>\n",
              "    </tr>\n",
              "    <tr>\n",
              "      <th>2020-12-18</th>\n",
              "      <td>129.100006</td>\n",
              "      <td>126.120003</td>\n",
              "      <td>128.960007</td>\n",
              "      <td>126.660004</td>\n",
              "      <td>192541500.0</td>\n",
              "      <td>126.660004</td>\n",
              "    </tr>\n",
              "    <tr>\n",
              "      <th>2020-12-21</th>\n",
              "      <td>128.309998</td>\n",
              "      <td>123.449997</td>\n",
              "      <td>125.019997</td>\n",
              "      <td>128.229996</td>\n",
              "      <td>121251600.0</td>\n",
              "      <td>128.229996</td>\n",
              "    </tr>\n",
              "    <tr>\n",
              "      <th>2020-12-22</th>\n",
              "      <td>134.410004</td>\n",
              "      <td>129.649994</td>\n",
              "      <td>131.610001</td>\n",
              "      <td>131.880005</td>\n",
              "      <td>168904800.0</td>\n",
              "      <td>131.880005</td>\n",
              "    </tr>\n",
              "    <tr>\n",
              "      <th>2020-12-23</th>\n",
              "      <td>132.429993</td>\n",
              "      <td>130.779999</td>\n",
              "      <td>132.160004</td>\n",
              "      <td>130.960007</td>\n",
              "      <td>88223700.0</td>\n",
              "      <td>130.960007</td>\n",
              "    </tr>\n",
              "    <tr>\n",
              "      <th>2020-12-24</th>\n",
              "      <td>133.460007</td>\n",
              "      <td>131.100006</td>\n",
              "      <td>131.320007</td>\n",
              "      <td>131.970001</td>\n",
              "      <td>54930100.0</td>\n",
              "      <td>131.970001</td>\n",
              "    </tr>\n",
              "  </tbody>\n",
              "</table>\n",
              "<p>2011 rows × 6 columns</p>\n",
              "</div>"
            ],
            "text/plain": [
              "                  High         Low  ...       Volume   Adj Close\n",
              "Date                                ...                         \n",
              "2013-01-02   19.821428   19.343929  ...  560518000.0   17.065252\n",
              "2013-01-03   19.631071   19.321428  ...  352965200.0   16.849854\n",
              "2013-01-04   19.236786   18.779642  ...  594333600.0   16.380503\n",
              "2013-01-07   18.903572   18.400000  ...  484156400.0   16.284145\n",
              "2013-01-08   18.996071   18.616072  ...  458707200.0   16.327978\n",
              "...                ...         ...  ...          ...         ...\n",
              "2020-12-18  129.100006  126.120003  ...  192541500.0  126.660004\n",
              "2020-12-21  128.309998  123.449997  ...  121251600.0  128.229996\n",
              "2020-12-22  134.410004  129.649994  ...  168904800.0  131.880005\n",
              "2020-12-23  132.429993  130.779999  ...   88223700.0  130.960007\n",
              "2020-12-24  133.460007  131.100006  ...   54930100.0  131.970001\n",
              "\n",
              "[2011 rows x 6 columns]"
            ]
          },
          "metadata": {
            "tags": []
          },
          "execution_count": 3
        }
      ]
    },
    {
      "cell_type": "code",
      "metadata": {
        "colab": {
          "base_uri": "https://localhost:8080/"
        },
        "id": "sEP-U8mftTqd",
        "outputId": "8e7a3b99-f2d2-4dda-9696-2a5db81269f3"
      },
      "source": [
        "# Get the number of rows and columns in the data set\n",
        "df.shape"
      ],
      "execution_count": 4,
      "outputs": [
        {
          "output_type": "execute_result",
          "data": {
            "text/plain": [
              "(2011, 6)"
            ]
          },
          "metadata": {
            "tags": []
          },
          "execution_count": 4
        }
      ]
    },
    {
      "cell_type": "code",
      "metadata": {
        "colab": {
          "base_uri": "https://localhost:8080/",
          "height": 434
        },
        "id": "-S1ncSNot7P-",
        "outputId": "614a3577-6383-4ab9-a09e-9477d82af6f7"
      },
      "source": [
        "# Visualize the closing price history\n",
        "plt.figure(figsize=(16,8))\n",
        "plt.title('Close Price History')\n",
        "plt.plot(df['Close'])\n",
        "plt.xlabel('Date', fontsize=1)\n",
        "plt.ylabel('Close Price USD ($)', fontsize=18)\n",
        "plt.show()\n"
      ],
      "execution_count": 5,
      "outputs": [
        {
          "output_type": "display_data",
          "data": {
            "image/png": "[encoded data removed]",
            "text/plain": [
              "<Figure size 1152x576 with 1 Axes>"
            ]
          },
          "metadata": {
            "tags": []
          }
        }
      ]
    },
    {
      "cell_type": "code",
      "metadata": {
        "colab": {
          "base_uri": "https://localhost:8080/"
        },
        "id": "9RvyV5W5t7Rd",
        "outputId": "a73e9d43-3624-45e3-803f-ca387bf3ae45"
      },
      "source": [
        "#Create a new daataframe with only the 'Close' column\n",
        "data = df.filter(['Close'])\n",
        "#Convert the dataframe to a numpy array\n",
        "dataset = data.values\n",
        "#Get the number of rows to train the model on\n",
        "training_data_len = math.ceil(len(dataset) * .8)\n",
        "\n",
        "training_data_len"
      ],
      "execution_count": 6,
      "outputs": [
        {
          "output_type": "execute_result",
          "data": {
            "text/plain": [
              "1609"
            ]
          },
          "metadata": {
            "tags": []
          },
          "execution_count": 6
        }
      ]
    },
    {
      "cell_type": "code",
      "metadata": {
        "colab": {
          "base_uri": "https://localhost:8080/"
        },
        "id": "eQyIJCPfxNXs",
        "outputId": "293868e9-49d3-4d6e-a2e4-66c2b285b291"
      },
      "source": [
        "#Scale the data\n",
        "scaler = MinMaxScaler(feature_range=(0,1))\n",
        "scaled_data = scaler.fit_transform(dataset)\n",
        "scaled_data"
      ],
      "execution_count": 7,
      "outputs": [
        {
          "output_type": "execute_result",
          "data": {
            "text/plain": [
              "array([[0.04708139],\n",
              "       [0.04502289],\n",
              "       [0.04053753],\n",
              "       ...,\n",
              "       [0.9808705 ],\n",
              "       [0.97321867],\n",
              "       [0.98161902]])"
            ]
          },
          "metadata": {
            "tags": []
          },
          "execution_count": 7
        }
      ]
    },
    {
      "cell_type": "code",
      "metadata": {
        "colab": {
          "base_uri": "https://localhost:8080/"
        },
        "id": "nfv0UxgwxYU2",
        "outputId": "d66f66e5-4344-4d05-acb4-25dbf735e788"
      },
      "source": [
        "#Create the trainng data set\n",
        "#Create the scaled training data set\n",
        "train_data = scaled_data[0:training_data_len, :]\n",
        "#split the data into x_train and y_train data sets\n",
        "x_train = []\n",
        "y_train = []\n",
        "\n",
        "for i in range(60, len(train_data)):\n",
        "  x_train.append(train_data[i-60:i,0])\n",
        "  y_train.append(train_data[i, 0])\n",
        "  if i<=60:\n",
        "    print(x_train)\n",
        "    print(y_train)\n",
        "    print()\n"
      ],
      "execution_count": 10,
      "outputs": [
        {
          "output_type": "stream",
          "text": [
            "[array([0.04708139, 0.04502289, 0.04053753, 0.0396167 , 0.04003553,\n",
            "       0.0375968 , 0.03950084, 0.03854735, 0.03303719, 0.02833499,\n",
            "       0.03432634, 0.03331344, 0.03251736, 0.03393425, 0.03667894,\n",
            "       0.01781369, 0.0146591 , 0.01761468, 0.02012172, 0.01969399,\n",
            "       0.01929595, 0.01874047, 0.01538388, 0.019994  , 0.01984845,\n",
            "       0.02307731, 0.02508533, 0.0265557 , 0.02298226, 0.02271789,\n",
            "       0.02259313, 0.02068314, 0.02063265, 0.01732358, 0.01649483,\n",
            "       0.01790578, 0.01552646, 0.01735923, 0.01605223, 0.01511061,\n",
            "       0.01186392, 0.00876872, 0.01206293, 0.01043514, 0.01189659,\n",
            "       0.01223522, 0.01406204, 0.01125795, 0.01123418, 0.01246691,\n",
            "       0.01578192, 0.01936427, 0.0189989 , 0.01828302, 0.0184761 ,\n",
            "       0.02120297, 0.02169903, 0.02097424, 0.01828302, 0.01548488])]\n",
            "[0.011400530420072968]\n",
            "\n"
          ],
          "name": "stdout"
        }
      ]
    },
    {
      "cell_type": "code",
      "metadata": {
        "id": "HnuG6ovq1Nik"
      },
      "source": [
        "#Convert the x_train and y_train to numpy array\n",
        "x_train, y_train = np.array(x_train), np.array(y_train)"
      ],
      "execution_count": 12,
      "outputs": []
    },
    {
      "cell_type": "code",
      "metadata": {
        "colab": {
          "base_uri": "https://localhost:8080/"
        },
        "id": "nvovr4Vk17Qg",
        "outputId": "e8a65c72-f9c5-4e53-857b-55706c736bff"
      },
      "source": [
        "#Reshape the data\n",
        "print('before', x_train.shape)\n",
        "x_train = np.reshape(x_train, (x_train.shape[0], x_train.shape[1], 1))\n",
        "print('after', x_train.shape)\n"
      ],
      "execution_count": 16,
      "outputs": [
        {
          "output_type": "stream",
          "text": [
            "before (1549, 60)\n",
            "after (1549, 60, 1)\n"
          ],
          "name": "stdout"
        }
      ]
    },
    {
      "cell_type": "code",
      "metadata": {
        "id": "zolLn2Ln3MkC"
      },
      "source": [
        "#Build the LSTM Model\n",
        "model = Sequential()\n",
        "model.add(LSTM(50, return_sequences=True, input_shape=(x_train.shape[1],1)))\n",
        "model.add(LSTM(50, return_sequences=False))\n",
        "model.add(Dense(25))\n",
        "model.add(Dense(1))\n"
      ],
      "execution_count": 19,
      "outputs": []
    },
    {
      "cell_type": "code",
      "metadata": {
        "id": "T9upuDC15lOF"
      },
      "source": [
        "#Compile the model\n",
        "model.compile(optimizer='adam', loss='mean_squared_error')"
      ],
      "execution_count": 21,
      "outputs": []
    },
    {
      "cell_type": "code",
      "metadata": {
        "colab": {
          "base_uri": "https://localhost:8080/"
        },
        "id": "D4ZRs6065ln7",
        "outputId": "f6edeaea-2751-4bb5-9c17-aeea23f98eaf"
      },
      "source": [
        "#Train the model\n",
        "model.fit(x_train, y_train, batch_size=1, epochs=1)"
      ],
      "execution_count": 22,
      "outputs": [
        {
          "output_type": "stream",
          "text": [
            "1549/1549 [==============================] - 38s 23ms/step - loss: 0.0012\n"
          ],
          "name": "stdout"
        },
        {
          "output_type": "execute_result",
          "data": {
            "text/plain": [
              "<tensorflow.python.keras.callbacks.History at 0x7f8022c686a0>"
            ]
          },
          "metadata": {
            "tags": []
          },
          "execution_count": 22
        }
      ]
    },
    {
      "cell_type": "code",
      "metadata": {
        "id": "ZADlRLTz6biM"
      },
      "source": [
        "#Create the testing data set\n",
        "#Create a new array containing scaled values from index 1549 to 2009\n"
      ],
      "execution_count": null,
      "outputs": []
    }
  ]
}