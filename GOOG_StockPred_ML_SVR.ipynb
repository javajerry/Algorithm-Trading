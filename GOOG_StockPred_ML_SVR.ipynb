{
  "nbformat": 4,
  "nbformat_minor": 0,
  "metadata": {
    "colab": {
      "name": "GOOG_StockPred_ML_SVR",
      "provenance": [],
      "authorship_tag": "ABX9TyN1zM8I0VA0Y8+RKGBwJLsR",
      "include_colab_link": true
    },
    "kernelspec": {
      "name": "python3",
      "display_name": "Python 3"
    }
  },
  "cells": [
    {
      "cell_type": "markdown",
      "metadata": {
        "id": "view-in-github",
        "colab_type": "text"
      },
      "source": [
        "<a href=\"https://colab.research.google.com/github/javajerry/Algorithm-Trading/blob/main/GOOG_StockPred_ML_SVR.ipynb\" target=\"_parent\"><img src=\"https://colab.research.google.com/assets/colab-badge.svg\" alt=\"Open In Colab\"/></a>"
      ]
    },
    {
      "cell_type": "markdown",
      "metadata": {
        "id": "N1OQ4I7Mdok8"
      },
      "source": [
        "#### Description: This program predicts the price of Google stock for a specific data"
      ]
    },
    {
      "cell_type": "code",
      "metadata": {
        "id": "W4zi57u1cThS"
      },
      "source": [
        "#Import the libraries\n",
        "from sklearn.svm import SVR\n",
        "import numpy as np\n",
        "import pandas as pd\n",
        "import matplotlib.pyplot as plt\n",
        "plt.style.use('seaborn-darkgrid')"
      ],
      "execution_count": 3,
      "outputs": []
    },
    {
      "cell_type": "code",
      "metadata": {
        "colab": {
          "resources": {
            "http://localhost:8080/nbextensions/google.colab/files.js": {
              "data": "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",
              "ok": true,
              "headers": [
                [
                  "content-type",
                  "application/javascript"
                ]
              ],
              "status": 200,
              "status_text": ""
            }
          },
          "base_uri": "https://localhost:8080/",
          "height": 72
        },
        "id": "IWR2aFGOd7vY",
        "outputId": "c1a10a68-a1e1-427a-b107-4b5c5d99391c"
      },
      "source": [
        "#Load the data\n",
        "from google.colab import files\n",
        "uploaded = files.upload()"
      ],
      "execution_count": 6,
      "outputs": [
        {
          "output_type": "display_data",
          "data": {
            "text/html": [
              "\n",
              "     <input type=\"file\" id=\"files-f5b27417-b1be-4b61-99de-77d13f43ff5b\" name=\"files[]\" multiple disabled\n",
              "        style=\"border:none\" />\n",
              "     <output id=\"result-f5b27417-b1be-4b61-99de-77d13f43ff5b\">\n",
              "      Upload widget is only available when the cell has been executed in the\n",
              "      current browser session. Please rerun this cell to enable.\n",
              "      </output>\n",
              "      <script src=\"/nbextensions/google.colab/files.js\"></script> "
            ],
            "text/plain": [
              "<IPython.core.display.HTML object>"
            ]
          },
          "metadata": {
            "tags": []
          }
        },
        {
          "output_type": "stream",
          "text": [
            "Saving GOOG.csv to GOOG.csv\n"
          ],
          "name": "stdout"
        }
      ]
    },
    {
      "cell_type": "code",
      "metadata": {
        "colab": {
          "base_uri": "https://localhost:8080/",
          "height": 700
        },
        "id": "MBEcJbb5jcMx",
        "outputId": "74aa2780-381c-42af-b336-278feda6e179"
      },
      "source": [
        "#Store and look at the data\n",
        "df = pd.read_csv('GOOG.csv')\n",
        "df"
      ],
      "execution_count": 7,
      "outputs": [
        {
          "output_type": "execute_result",
          "data": {
            "text/html": [
              "<div>\n",
              "<style scoped>\n",
              "    .dataframe tbody tr th:only-of-type {\n",
              "        vertical-align: middle;\n",
              "    }\n",
              "\n",
              "    .dataframe tbody tr th {\n",
              "        vertical-align: top;\n",
              "    }\n",
              "\n",
              "    .dataframe thead th {\n",
              "        text-align: right;\n",
              "    }\n",
              "</style>\n",
              "<table border=\"1\" class=\"dataframe\">\n",
              "  <thead>\n",
              "    <tr style=\"text-align: right;\">\n",
              "      <th></th>\n",
              "      <th>Date</th>\n",
              "      <th>Open</th>\n",
              "      <th>High</th>\n",
              "      <th>Low</th>\n",
              "      <th>Close</th>\n",
              "      <th>Adj Close</th>\n",
              "      <th>Volume</th>\n",
              "    </tr>\n",
              "  </thead>\n",
              "  <tbody>\n",
              "    <tr>\n",
              "      <th>0</th>\n",
              "      <td>2019-05-01</td>\n",
              "      <td>1188.050049</td>\n",
              "      <td>1188.050049</td>\n",
              "      <td>1167.180054</td>\n",
              "      <td>1168.079956</td>\n",
              "      <td>1168.079956</td>\n",
              "      <td>2639200</td>\n",
              "    </tr>\n",
              "    <tr>\n",
              "      <th>1</th>\n",
              "      <td>2019-05-02</td>\n",
              "      <td>1167.760010</td>\n",
              "      <td>1174.189941</td>\n",
              "      <td>1155.001953</td>\n",
              "      <td>1162.609985</td>\n",
              "      <td>1162.609985</td>\n",
              "      <td>1944800</td>\n",
              "    </tr>\n",
              "    <tr>\n",
              "      <th>2</th>\n",
              "      <td>2019-05-03</td>\n",
              "      <td>1173.650024</td>\n",
              "      <td>1186.800049</td>\n",
              "      <td>1169.000000</td>\n",
              "      <td>1185.400024</td>\n",
              "      <td>1185.400024</td>\n",
              "      <td>1980700</td>\n",
              "    </tr>\n",
              "    <tr>\n",
              "      <th>3</th>\n",
              "      <td>2019-05-06</td>\n",
              "      <td>1166.260010</td>\n",
              "      <td>1190.849976</td>\n",
              "      <td>1166.260010</td>\n",
              "      <td>1189.390015</td>\n",
              "      <td>1189.390015</td>\n",
              "      <td>1563900</td>\n",
              "    </tr>\n",
              "    <tr>\n",
              "      <th>4</th>\n",
              "      <td>2019-05-07</td>\n",
              "      <td>1180.469971</td>\n",
              "      <td>1190.439941</td>\n",
              "      <td>1161.040039</td>\n",
              "      <td>1174.099976</td>\n",
              "      <td>1174.099976</td>\n",
              "      <td>1551400</td>\n",
              "    </tr>\n",
              "    <tr>\n",
              "      <th>5</th>\n",
              "      <td>2019-05-08</td>\n",
              "      <td>1172.010010</td>\n",
              "      <td>1180.423950</td>\n",
              "      <td>1165.739990</td>\n",
              "      <td>1166.270020</td>\n",
              "      <td>1166.270020</td>\n",
              "      <td>1309300</td>\n",
              "    </tr>\n",
              "    <tr>\n",
              "      <th>6</th>\n",
              "      <td>2019-05-09</td>\n",
              "      <td>1159.030029</td>\n",
              "      <td>1169.660034</td>\n",
              "      <td>1150.849976</td>\n",
              "      <td>1162.380005</td>\n",
              "      <td>1162.380005</td>\n",
              "      <td>1185700</td>\n",
              "    </tr>\n",
              "    <tr>\n",
              "      <th>7</th>\n",
              "      <td>2019-05-10</td>\n",
              "      <td>1163.589966</td>\n",
              "      <td>1172.599976</td>\n",
              "      <td>1142.500000</td>\n",
              "      <td>1164.270020</td>\n",
              "      <td>1164.270020</td>\n",
              "      <td>1314500</td>\n",
              "    </tr>\n",
              "    <tr>\n",
              "      <th>8</th>\n",
              "      <td>2019-05-13</td>\n",
              "      <td>1141.959961</td>\n",
              "      <td>1147.939941</td>\n",
              "      <td>1122.109985</td>\n",
              "      <td>1132.030029</td>\n",
              "      <td>1132.030029</td>\n",
              "      <td>1860600</td>\n",
              "    </tr>\n",
              "    <tr>\n",
              "      <th>9</th>\n",
              "      <td>2019-05-14</td>\n",
              "      <td>1137.209961</td>\n",
              "      <td>1140.420044</td>\n",
              "      <td>1119.550049</td>\n",
              "      <td>1120.439941</td>\n",
              "      <td>1120.439941</td>\n",
              "      <td>1836600</td>\n",
              "    </tr>\n",
              "    <tr>\n",
              "      <th>10</th>\n",
              "      <td>2019-05-15</td>\n",
              "      <td>1117.869995</td>\n",
              "      <td>1171.329956</td>\n",
              "      <td>1116.666016</td>\n",
              "      <td>1164.209961</td>\n",
              "      <td>1164.209961</td>\n",
              "      <td>2289300</td>\n",
              "    </tr>\n",
              "    <tr>\n",
              "      <th>11</th>\n",
              "      <td>2019-05-16</td>\n",
              "      <td>1164.510010</td>\n",
              "      <td>1188.160034</td>\n",
              "      <td>1162.839966</td>\n",
              "      <td>1178.979980</td>\n",
              "      <td>1178.979980</td>\n",
              "      <td>1531400</td>\n",
              "    </tr>\n",
              "    <tr>\n",
              "      <th>12</th>\n",
              "      <td>2019-05-17</td>\n",
              "      <td>1168.469971</td>\n",
              "      <td>1180.150024</td>\n",
              "      <td>1160.010010</td>\n",
              "      <td>1162.300049</td>\n",
              "      <td>1162.300049</td>\n",
              "      <td>1208600</td>\n",
              "    </tr>\n",
              "    <tr>\n",
              "      <th>13</th>\n",
              "      <td>2019-05-20</td>\n",
              "      <td>1144.500000</td>\n",
              "      <td>1146.796997</td>\n",
              "      <td>1131.442993</td>\n",
              "      <td>1138.849976</td>\n",
              "      <td>1138.849976</td>\n",
              "      <td>1353300</td>\n",
              "    </tr>\n",
              "    <tr>\n",
              "      <th>14</th>\n",
              "      <td>2019-05-21</td>\n",
              "      <td>1148.489990</td>\n",
              "      <td>1152.708008</td>\n",
              "      <td>1137.939941</td>\n",
              "      <td>1149.630005</td>\n",
              "      <td>1149.630005</td>\n",
              "      <td>1159800</td>\n",
              "    </tr>\n",
              "    <tr>\n",
              "      <th>15</th>\n",
              "      <td>2019-05-22</td>\n",
              "      <td>1146.750000</td>\n",
              "      <td>1158.520020</td>\n",
              "      <td>1145.890015</td>\n",
              "      <td>1151.420044</td>\n",
              "      <td>1151.420044</td>\n",
              "      <td>914500</td>\n",
              "    </tr>\n",
              "    <tr>\n",
              "      <th>16</th>\n",
              "      <td>2019-05-23</td>\n",
              "      <td>1140.500000</td>\n",
              "      <td>1145.973022</td>\n",
              "      <td>1129.223999</td>\n",
              "      <td>1140.770020</td>\n",
              "      <td>1140.770020</td>\n",
              "      <td>1198900</td>\n",
              "    </tr>\n",
              "    <tr>\n",
              "      <th>17</th>\n",
              "      <td>2019-05-24</td>\n",
              "      <td>1147.359985</td>\n",
              "      <td>1149.765015</td>\n",
              "      <td>1131.660034</td>\n",
              "      <td>1133.469971</td>\n",
              "      <td>1133.469971</td>\n",
              "      <td>1112000</td>\n",
              "    </tr>\n",
              "    <tr>\n",
              "      <th>18</th>\n",
              "      <td>2019-05-28</td>\n",
              "      <td>1134.000000</td>\n",
              "      <td>1151.587036</td>\n",
              "      <td>1133.119995</td>\n",
              "      <td>1134.150024</td>\n",
              "      <td>1134.150024</td>\n",
              "      <td>1365000</td>\n",
              "    </tr>\n",
              "    <tr>\n",
              "      <th>19</th>\n",
              "      <td>2019-05-29</td>\n",
              "      <td>1127.520020</td>\n",
              "      <td>1129.099976</td>\n",
              "      <td>1108.219971</td>\n",
              "      <td>1116.459961</td>\n",
              "      <td>1116.459961</td>\n",
              "      <td>1538200</td>\n",
              "    </tr>\n",
              "    <tr>\n",
              "      <th>20</th>\n",
              "      <td>2019-05-30</td>\n",
              "      <td>1115.540039</td>\n",
              "      <td>1123.130005</td>\n",
              "      <td>1112.119995</td>\n",
              "      <td>1117.949951</td>\n",
              "      <td>1117.949951</td>\n",
              "      <td>951900</td>\n",
              "    </tr>\n",
              "  </tbody>\n",
              "</table>\n",
              "</div>"
            ],
            "text/plain": [
              "          Date         Open         High  ...        Close    Adj Close   Volume\n",
              "0   2019-05-01  1188.050049  1188.050049  ...  1168.079956  1168.079956  2639200\n",
              "1   2019-05-02  1167.760010  1174.189941  ...  1162.609985  1162.609985  1944800\n",
              "2   2019-05-03  1173.650024  1186.800049  ...  1185.400024  1185.400024  1980700\n",
              "3   2019-05-06  1166.260010  1190.849976  ...  1189.390015  1189.390015  1563900\n",
              "4   2019-05-07  1180.469971  1190.439941  ...  1174.099976  1174.099976  1551400\n",
              "5   2019-05-08  1172.010010  1180.423950  ...  1166.270020  1166.270020  1309300\n",
              "6   2019-05-09  1159.030029  1169.660034  ...  1162.380005  1162.380005  1185700\n",
              "7   2019-05-10  1163.589966  1172.599976  ...  1164.270020  1164.270020  1314500\n",
              "8   2019-05-13  1141.959961  1147.939941  ...  1132.030029  1132.030029  1860600\n",
              "9   2019-05-14  1137.209961  1140.420044  ...  1120.439941  1120.439941  1836600\n",
              "10  2019-05-15  1117.869995  1171.329956  ...  1164.209961  1164.209961  2289300\n",
              "11  2019-05-16  1164.510010  1188.160034  ...  1178.979980  1178.979980  1531400\n",
              "12  2019-05-17  1168.469971  1180.150024  ...  1162.300049  1162.300049  1208600\n",
              "13  2019-05-20  1144.500000  1146.796997  ...  1138.849976  1138.849976  1353300\n",
              "14  2019-05-21  1148.489990  1152.708008  ...  1149.630005  1149.630005  1159800\n",
              "15  2019-05-22  1146.750000  1158.520020  ...  1151.420044  1151.420044   914500\n",
              "16  2019-05-23  1140.500000  1145.973022  ...  1140.770020  1140.770020  1198900\n",
              "17  2019-05-24  1147.359985  1149.765015  ...  1133.469971  1133.469971  1112000\n",
              "18  2019-05-28  1134.000000  1151.587036  ...  1134.150024  1134.150024  1365000\n",
              "19  2019-05-29  1127.520020  1129.099976  ...  1116.459961  1116.459961  1538200\n",
              "20  2019-05-30  1115.540039  1123.130005  ...  1117.949951  1117.949951   951900\n",
              "\n",
              "[21 rows x 7 columns]"
            ]
          },
          "metadata": {
            "tags": []
          },
          "execution_count": 7
        }
      ]
    },
    {
      "cell_type": "code",
      "metadata": {
        "colab": {
          "base_uri": "https://localhost:8080/",
          "height": 80
        },
        "id": "ULerK2VzlHJZ",
        "outputId": "0c73e88b-c1b6-4d1d-f223-59804cff9f32"
      },
      "source": [
        "#get and print the last row of data\n",
        "actual_price = df.tail(1)\n",
        "actual_price"
      ],
      "execution_count": 11,
      "outputs": [
        {
          "output_type": "execute_result",
          "data": {
            "text/html": [
              "<div>\n",
              "<style scoped>\n",
              "    .dataframe tbody tr th:only-of-type {\n",
              "        vertical-align: middle;\n",
              "    }\n",
              "\n",
              "    .dataframe tbody tr th {\n",
              "        vertical-align: top;\n",
              "    }\n",
              "\n",
              "    .dataframe thead th {\n",
              "        text-align: right;\n",
              "    }\n",
              "</style>\n",
              "<table border=\"1\" class=\"dataframe\">\n",
              "  <thead>\n",
              "    <tr style=\"text-align: right;\">\n",
              "      <th></th>\n",
              "      <th>Date</th>\n",
              "      <th>Open</th>\n",
              "      <th>High</th>\n",
              "      <th>Low</th>\n",
              "      <th>Close</th>\n",
              "      <th>Adj Close</th>\n",
              "      <th>Volume</th>\n",
              "    </tr>\n",
              "  </thead>\n",
              "  <tbody>\n",
              "    <tr>\n",
              "      <th>20</th>\n",
              "      <td>2019-05-30</td>\n",
              "      <td>1115.540039</td>\n",
              "      <td>1123.130005</td>\n",
              "      <td>1112.119995</td>\n",
              "      <td>1117.949951</td>\n",
              "      <td>1117.949951</td>\n",
              "      <td>951900</td>\n",
              "    </tr>\n",
              "  </tbody>\n",
              "</table>\n",
              "</div>"
            ],
            "text/plain": [
              "          Date         Open         High  ...        Close    Adj Close  Volume\n",
              "20  2019-05-30  1115.540039  1123.130005  ...  1117.949951  1117.949951  951900\n",
              "\n",
              "[1 rows x 7 columns]"
            ]
          },
          "metadata": {
            "tags": []
          },
          "execution_count": 11
        }
      ]
    },
    {
      "cell_type": "code",
      "metadata": {
        "colab": {
          "base_uri": "https://localhost:8080/",
          "height": 669
        },
        "id": "DErcVx84laZa",
        "outputId": "75572c8e-d493-46e2-a4ce-9b7f77a6b426"
      },
      "source": [
        "#Prepare the data for training\n",
        "df = df.head(len(df)-1)\n",
        "df"
      ],
      "execution_count": 12,
      "outputs": [
        {
          "output_type": "execute_result",
          "data": {
            "text/html": [
              "<div>\n",
              "<style scoped>\n",
              "    .dataframe tbody tr th:only-of-type {\n",
              "        vertical-align: middle;\n",
              "    }\n",
              "\n",
              "    .dataframe tbody tr th {\n",
              "        vertical-align: top;\n",
              "    }\n",
              "\n",
              "    .dataframe thead th {\n",
              "        text-align: right;\n",
              "    }\n",
              "</style>\n",
              "<table border=\"1\" class=\"dataframe\">\n",
              "  <thead>\n",
              "    <tr style=\"text-align: right;\">\n",
              "      <th></th>\n",
              "      <th>Date</th>\n",
              "      <th>Open</th>\n",
              "      <th>High</th>\n",
              "      <th>Low</th>\n",
              "      <th>Close</th>\n",
              "      <th>Adj Close</th>\n",
              "      <th>Volume</th>\n",
              "    </tr>\n",
              "  </thead>\n",
              "  <tbody>\n",
              "    <tr>\n",
              "      <th>0</th>\n",
              "      <td>2019-05-01</td>\n",
              "      <td>1188.050049</td>\n",
              "      <td>1188.050049</td>\n",
              "      <td>1167.180054</td>\n",
              "      <td>1168.079956</td>\n",
              "      <td>1168.079956</td>\n",
              "      <td>2639200</td>\n",
              "    </tr>\n",
              "    <tr>\n",
              "      <th>1</th>\n",
              "      <td>2019-05-02</td>\n",
              "      <td>1167.760010</td>\n",
              "      <td>1174.189941</td>\n",
              "      <td>1155.001953</td>\n",
              "      <td>1162.609985</td>\n",
              "      <td>1162.609985</td>\n",
              "      <td>1944800</td>\n",
              "    </tr>\n",
              "    <tr>\n",
              "      <th>2</th>\n",
              "      <td>2019-05-03</td>\n",
              "      <td>1173.650024</td>\n",
              "      <td>1186.800049</td>\n",
              "      <td>1169.000000</td>\n",
              "      <td>1185.400024</td>\n",
              "      <td>1185.400024</td>\n",
              "      <td>1980700</td>\n",
              "    </tr>\n",
              "    <tr>\n",
              "      <th>3</th>\n",
              "      <td>2019-05-06</td>\n",
              "      <td>1166.260010</td>\n",
              "      <td>1190.849976</td>\n",
              "      <td>1166.260010</td>\n",
              "      <td>1189.390015</td>\n",
              "      <td>1189.390015</td>\n",
              "      <td>1563900</td>\n",
              "    </tr>\n",
              "    <tr>\n",
              "      <th>4</th>\n",
              "      <td>2019-05-07</td>\n",
              "      <td>1180.469971</td>\n",
              "      <td>1190.439941</td>\n",
              "      <td>1161.040039</td>\n",
              "      <td>1174.099976</td>\n",
              "      <td>1174.099976</td>\n",
              "      <td>1551400</td>\n",
              "    </tr>\n",
              "    <tr>\n",
              "      <th>5</th>\n",
              "      <td>2019-05-08</td>\n",
              "      <td>1172.010010</td>\n",
              "      <td>1180.423950</td>\n",
              "      <td>1165.739990</td>\n",
              "      <td>1166.270020</td>\n",
              "      <td>1166.270020</td>\n",
              "      <td>1309300</td>\n",
              "    </tr>\n",
              "    <tr>\n",
              "      <th>6</th>\n",
              "      <td>2019-05-09</td>\n",
              "      <td>1159.030029</td>\n",
              "      <td>1169.660034</td>\n",
              "      <td>1150.849976</td>\n",
              "      <td>1162.380005</td>\n",
              "      <td>1162.380005</td>\n",
              "      <td>1185700</td>\n",
              "    </tr>\n",
              "    <tr>\n",
              "      <th>7</th>\n",
              "      <td>2019-05-10</td>\n",
              "      <td>1163.589966</td>\n",
              "      <td>1172.599976</td>\n",
              "      <td>1142.500000</td>\n",
              "      <td>1164.270020</td>\n",
              "      <td>1164.270020</td>\n",
              "      <td>1314500</td>\n",
              "    </tr>\n",
              "    <tr>\n",
              "      <th>8</th>\n",
              "      <td>2019-05-13</td>\n",
              "      <td>1141.959961</td>\n",
              "      <td>1147.939941</td>\n",
              "      <td>1122.109985</td>\n",
              "      <td>1132.030029</td>\n",
              "      <td>1132.030029</td>\n",
              "      <td>1860600</td>\n",
              "    </tr>\n",
              "    <tr>\n",
              "      <th>9</th>\n",
              "      <td>2019-05-14</td>\n",
              "      <td>1137.209961</td>\n",
              "      <td>1140.420044</td>\n",
              "      <td>1119.550049</td>\n",
              "      <td>1120.439941</td>\n",
              "      <td>1120.439941</td>\n",
              "      <td>1836600</td>\n",
              "    </tr>\n",
              "    <tr>\n",
              "      <th>10</th>\n",
              "      <td>2019-05-15</td>\n",
              "      <td>1117.869995</td>\n",
              "      <td>1171.329956</td>\n",
              "      <td>1116.666016</td>\n",
              "      <td>1164.209961</td>\n",
              "      <td>1164.209961</td>\n",
              "      <td>2289300</td>\n",
              "    </tr>\n",
              "    <tr>\n",
              "      <th>11</th>\n",
              "      <td>2019-05-16</td>\n",
              "      <td>1164.510010</td>\n",
              "      <td>1188.160034</td>\n",
              "      <td>1162.839966</td>\n",
              "      <td>1178.979980</td>\n",
              "      <td>1178.979980</td>\n",
              "      <td>1531400</td>\n",
              "    </tr>\n",
              "    <tr>\n",
              "      <th>12</th>\n",
              "      <td>2019-05-17</td>\n",
              "      <td>1168.469971</td>\n",
              "      <td>1180.150024</td>\n",
              "      <td>1160.010010</td>\n",
              "      <td>1162.300049</td>\n",
              "      <td>1162.300049</td>\n",
              "      <td>1208600</td>\n",
              "    </tr>\n",
              "    <tr>\n",
              "      <th>13</th>\n",
              "      <td>2019-05-20</td>\n",
              "      <td>1144.500000</td>\n",
              "      <td>1146.796997</td>\n",
              "      <td>1131.442993</td>\n",
              "      <td>1138.849976</td>\n",
              "      <td>1138.849976</td>\n",
              "      <td>1353300</td>\n",
              "    </tr>\n",
              "    <tr>\n",
              "      <th>14</th>\n",
              "      <td>2019-05-21</td>\n",
              "      <td>1148.489990</td>\n",
              "      <td>1152.708008</td>\n",
              "      <td>1137.939941</td>\n",
              "      <td>1149.630005</td>\n",
              "      <td>1149.630005</td>\n",
              "      <td>1159800</td>\n",
              "    </tr>\n",
              "    <tr>\n",
              "      <th>15</th>\n",
              "      <td>2019-05-22</td>\n",
              "      <td>1146.750000</td>\n",
              "      <td>1158.520020</td>\n",
              "      <td>1145.890015</td>\n",
              "      <td>1151.420044</td>\n",
              "      <td>1151.420044</td>\n",
              "      <td>914500</td>\n",
              "    </tr>\n",
              "    <tr>\n",
              "      <th>16</th>\n",
              "      <td>2019-05-23</td>\n",
              "      <td>1140.500000</td>\n",
              "      <td>1145.973022</td>\n",
              "      <td>1129.223999</td>\n",
              "      <td>1140.770020</td>\n",
              "      <td>1140.770020</td>\n",
              "      <td>1198900</td>\n",
              "    </tr>\n",
              "    <tr>\n",
              "      <th>17</th>\n",
              "      <td>2019-05-24</td>\n",
              "      <td>1147.359985</td>\n",
              "      <td>1149.765015</td>\n",
              "      <td>1131.660034</td>\n",
              "      <td>1133.469971</td>\n",
              "      <td>1133.469971</td>\n",
              "      <td>1112000</td>\n",
              "    </tr>\n",
              "    <tr>\n",
              "      <th>18</th>\n",
              "      <td>2019-05-28</td>\n",
              "      <td>1134.000000</td>\n",
              "      <td>1151.587036</td>\n",
              "      <td>1133.119995</td>\n",
              "      <td>1134.150024</td>\n",
              "      <td>1134.150024</td>\n",
              "      <td>1365000</td>\n",
              "    </tr>\n",
              "    <tr>\n",
              "      <th>19</th>\n",
              "      <td>2019-05-29</td>\n",
              "      <td>1127.520020</td>\n",
              "      <td>1129.099976</td>\n",
              "      <td>1108.219971</td>\n",
              "      <td>1116.459961</td>\n",
              "      <td>1116.459961</td>\n",
              "      <td>1538200</td>\n",
              "    </tr>\n",
              "  </tbody>\n",
              "</table>\n",
              "</div>"
            ],
            "text/plain": [
              "          Date         Open         High  ...        Close    Adj Close   Volume\n",
              "0   2019-05-01  1188.050049  1188.050049  ...  1168.079956  1168.079956  2639200\n",
              "1   2019-05-02  1167.760010  1174.189941  ...  1162.609985  1162.609985  1944800\n",
              "2   2019-05-03  1173.650024  1186.800049  ...  1185.400024  1185.400024  1980700\n",
              "3   2019-05-06  1166.260010  1190.849976  ...  1189.390015  1189.390015  1563900\n",
              "4   2019-05-07  1180.469971  1190.439941  ...  1174.099976  1174.099976  1551400\n",
              "5   2019-05-08  1172.010010  1180.423950  ...  1166.270020  1166.270020  1309300\n",
              "6   2019-05-09  1159.030029  1169.660034  ...  1162.380005  1162.380005  1185700\n",
              "7   2019-05-10  1163.589966  1172.599976  ...  1164.270020  1164.270020  1314500\n",
              "8   2019-05-13  1141.959961  1147.939941  ...  1132.030029  1132.030029  1860600\n",
              "9   2019-05-14  1137.209961  1140.420044  ...  1120.439941  1120.439941  1836600\n",
              "10  2019-05-15  1117.869995  1171.329956  ...  1164.209961  1164.209961  2289300\n",
              "11  2019-05-16  1164.510010  1188.160034  ...  1178.979980  1178.979980  1531400\n",
              "12  2019-05-17  1168.469971  1180.150024  ...  1162.300049  1162.300049  1208600\n",
              "13  2019-05-20  1144.500000  1146.796997  ...  1138.849976  1138.849976  1353300\n",
              "14  2019-05-21  1148.489990  1152.708008  ...  1149.630005  1149.630005  1159800\n",
              "15  2019-05-22  1146.750000  1158.520020  ...  1151.420044  1151.420044   914500\n",
              "16  2019-05-23  1140.500000  1145.973022  ...  1140.770020  1140.770020  1198900\n",
              "17  2019-05-24  1147.359985  1149.765015  ...  1133.469971  1133.469971  1112000\n",
              "18  2019-05-28  1134.000000  1151.587036  ...  1134.150024  1134.150024  1365000\n",
              "19  2019-05-29  1127.520020  1129.099976  ...  1116.459961  1116.459961  1538200\n",
              "\n",
              "[20 rows x 7 columns]"
            ]
          },
          "metadata": {
            "tags": []
          },
          "execution_count": 12
        }
      ]
    },
    {
      "cell_type": "code",
      "metadata": {
        "id": "qqwfne_7nKdP"
      },
      "source": [
        "#Create an empty to store the independent and dependent data\n",
        "days = list()\n",
        "adj_close_prices = list()"
      ],
      "execution_count": 31,
      "outputs": []
    },
    {
      "cell_type": "code",
      "metadata": {
        "id": "N5mkWqpknYwf"
      },
      "source": [
        "df_days = df.loc[:,'Date']\n",
        "df_adj_close = df.loc[:, 'Adj Close']"
      ],
      "execution_count": 32,
      "outputs": []
    },
    {
      "cell_type": "code",
      "metadata": {
        "id": "P6nwlWa8nvd4"
      },
      "source": [
        "# Create the independent data set\n",
        "for day in df_days:\n",
        "  days.append([int(day.split('-')[2])] )\n",
        "\n",
        "# Create the dependent data set\n",
        "for adj_close_price in df_adj_close:\n",
        "  adj_close_prices.append(float(adj_close_price))\n"
      ],
      "execution_count": 33,
      "outputs": []
    },
    {
      "cell_type": "code",
      "metadata": {
        "colab": {
          "base_uri": "https://localhost:8080/"
        },
        "id": "IEhtbo4LpW8x",
        "outputId": "d90e5584-d38e-4c7a-e50f-0c3d7c3bc196"
      },
      "source": [
        "#Create the 3 Support Vector Regression Models\n",
        "\n",
        "#Create and train a SVR model using a linear kernel\n",
        "lin_svr = SVR(kernel='linear',C=1000.0)\n",
        "lin_svr.fit(days, adj_close_prices)\n",
        "\n",
        "#Create and train a SVR model using a polynomial kernel\n",
        "poly_svr = SVR(kernel='poly',C=1000.0, degree = 2)\n",
        "poly_svr.fit(days, adj_close_prices)\n",
        "\n",
        "#Create and train a SVR model using a RBF kernel\n",
        "rbf_svr = SVR(kernel='rbf',C=1000.0, gamma=0.15)\n",
        "rbf_svr.fit(days, adj_close_prices)\n",
        "\n",
        "print('done')"
      ],
      "execution_count": 34,
      "outputs": [
        {
          "output_type": "stream",
          "text": [
            "done\n"
          ],
          "name": "stdout"
        }
      ]
    },
    {
      "cell_type": "code",
      "metadata": {
        "colab": {
          "base_uri": "https://localhost:8080/",
          "height": 412
        },
        "id": "orGRNE1vq4D1",
        "outputId": "8d9559f9-0122-4dff-c6a4-4a6795939173"
      },
      "source": [
        "#Plot the models on a graph to see which has the better fit to the original data\n",
        "plt.figure(figsize=(15,7))\n",
        "plt.scatter(days, adj_close_prices, color='black', label='Original Data')\n",
        "plt.plot(days, rbf_svr.predict(days), color='red', label='RBF Model')\n",
        "plt.plot(days, poly_svr.predict(days), color='orange', label='Ploynomial Model')\n",
        "plt.plot(days, lin_svr.predict(days), color='purple', label='Linear Model')\n",
        "plt.legend()\n",
        "plt.show()\n",
        "\n",
        "#output shows rbf is best fit"
      ],
      "execution_count": 36,
      "outputs": [
        {
          "output_type": "display_data",
          "data": {
            "image/png": "[encoded data removed]",
            "text/plain": [
              "<Figure size 1080x504 with 1 Axes>"
            ]
          },
          "metadata": {
            "tags": [],
            "needs_background": "light"
          }
        }
      ]
    },
    {
      "cell_type": "code",
      "metadata": {
        "colab": {
          "base_uri": "https://localhost:8080/"
        },
        "id": "mVJ8ayXvtsZJ",
        "outputId": "8fa6c97e-1ae5-4250-bac9-0d399e3e4f6a"
      },
      "source": [
        "# Show the predicted price for the given day\n",
        "day = [[30]]\n",
        "\n",
        "print('The RBF SVR predicted:', rbf_svr.predict(day))\n",
        "print('The Linear SVR predicted:', lin_svr.predict(day))\n",
        "print('The Polynomial SVR predicted:', poly_svr.predict(day))"
      ],
      "execution_count": 37,
      "outputs": [
        {
          "output_type": "stream",
          "text": [
            "The RBF SVR predicted: [1112.94098222]\n",
            "The Linear SVR predicted: [1130.8180244]\n",
            "The Polynomial SVR predicted: [1120.54296392]\n"
          ],
          "name": "stdout"
        }
      ]
    },
    {
      "cell_type": "code",
      "metadata": {
        "colab": {
          "base_uri": "https://localhost:8080/"
        },
        "id": "Twl-4a8luekT",
        "outputId": "22d21723-a0c6-4933-d820-1ac277beaf8e"
      },
      "source": [
        "#Print the actual price\n",
        "print('The actual price: ', actual_price['Adj Close'][20])"
      ],
      "execution_count": 39,
      "outputs": [
        {
          "output_type": "stream",
          "text": [
            "The actual price:  1117.949951\n"
          ],
          "name": "stdout"
        }
      ]
    }
  ]
}